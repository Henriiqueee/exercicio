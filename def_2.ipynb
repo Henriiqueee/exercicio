{
  "nbformat": 4,
  "nbformat_minor": 0,
  "metadata": {
    "colab": {
      "provenance": []
    },
    "kernelspec": {
      "name": "python3",
      "display_name": "Python 3"
    },
    "language_info": {
      "name": "python"
    }
  },
  "cells": [
    {
      "cell_type": "code",
      "execution_count": null,
      "metadata": {
        "colab": {
          "base_uri": "https://localhost:8080/"
        },
        "id": "4NUqun7A5psh",
        "outputId": "72995f5e-9e84-47ef-e528-59a8c40a1054"
      },
      "outputs": [
        {
          "output_type": "stream",
          "name": "stdout",
          "text": [
            "False\n"
          ]
        }
      ],
      "source": [
        "#01. Crie uma função que recebe duas palavras e retorna True se forem anagramas uma da outra.\n",
        "\n",
        "def anagrama(palavra1, palavra2):\n",
        "    if sorted(palavra1.lower()) == sorted(palavra2.lower()):\n",
        "        return True\n",
        "    else:\n",
        "        return False\n",
        "print(anagrama('loja', 'armario'))"
      ]
    },
    {
      "cell_type": "code",
      "source": [
        "#2. Crie uma função que recebe uma lista de números e retorna a quantidade de números positivos.\n",
        "\n",
        "lista= [-1, 13, 17, 18, 20]\n",
        "def li (lista):\n",
        "  return len([x for x in lista if x > 0])\n",
        "print(li(lista))"
      ],
      "metadata": {
        "colab": {
          "base_uri": "https://localhost:8080/"
        },
        "id": "V1cT5P9p6IEl",
        "outputId": "8e934fbb-43a2-4320-f972-e2dd9461973c"
      },
      "execution_count": null,
      "outputs": [
        {
          "output_type": "stream",
          "name": "stdout",
          "text": [
            "4\n"
          ]
        }
      ]
    },
    {
      "cell_type": "code",
      "source": [
        "#3. Crie uma função que recebe uma lista de números e retorna a quantidade de números que são múltiplos de 3.\n",
        "\n",
        "lista= (15, 1, 5 ,3 ,44)\n",
        "def li (lista):\n",
        "  return len([x for x in lista if x % 3 == 0])\n",
        "print(li(lista))"
      ],
      "metadata": {
        "colab": {
          "base_uri": "https://localhost:8080/"
        },
        "id": "qdXu0fiD6k9W",
        "outputId": "3a42f9b0-053d-4d90-ea5e-322d4ab6173a"
      },
      "execution_count": null,
      "outputs": [
        {
          "output_type": "stream",
          "name": "stdout",
          "text": [
            "2\n"
          ]
        }
      ]
    },
    {
      "cell_type": "code",
      "source": [
        "#4. Crie uma função que recebe uma lista de palavras e junta tudo em uma única frase.\n",
        "\n",
        "lista= ['oi', 'tudo', 'bem']\n",
        "def lis (lista):\n",
        "  return ' '.join(lista)\n",
        "print(lis(lista))"
      ],
      "metadata": {
        "colab": {
          "base_uri": "https://localhost:8080/"
        },
        "id": "Gu_aZNJG63rL",
        "outputId": "5bb48425-7595-4093-cb5d-4b0d014af267"
      },
      "execution_count": null,
      "outputs": [
        {
          "output_type": "stream",
          "name": "stdout",
          "text": [
            "oi tudo bem\n"
          ]
        }
      ]
    },
    {
      "cell_type": "code",
      "source": [
        "#5. Crie uma função que recebe uma lista de números e substitui os números negativos por zero.\n",
        "\n",
        "lista= [-3, 12, 7, -1, 8, 3]\n",
        "def num (lista):\n",
        "  return [0 if x < 0 else x for x in lista]\n",
        "print(num(lista))"
      ],
      "metadata": {
        "colab": {
          "base_uri": "https://localhost:8080/"
        },
        "id": "JJBE6KXR8QwE",
        "outputId": "3f05ec65-185b-4c55-e370-1e1b21c8203b"
      },
      "execution_count": null,
      "outputs": [
        {
          "output_type": "stream",
          "name": "stdout",
          "text": [
            "[0, 12, 7, 0, 8, 3]\n"
          ]
        }
      ]
    },
    {
      "cell_type": "code",
      "source": [
        "#6. Crie uma função que recebe uma lista de palavras e retorna a palavra com mais letras.\n",
        "\n",
        "palavras= ['macaco', 'banana', 'abacate']\n",
        "def pal (palavras):\n",
        "  return max(palavras, key=len)\n",
        "print(pal(palavras))"
      ],
      "metadata": {
        "colab": {
          "base_uri": "https://localhost:8080/"
        },
        "id": "aj7SH_Z88xh-",
        "outputId": "6e6f9ee1-eb93-47e5-c218-42ff8f2bff69"
      },
      "execution_count": null,
      "outputs": [
        {
          "output_type": "stream",
          "name": "stdout",
          "text": [
            "abacate\n"
          ]
        }
      ]
    },
    {
      "cell_type": "code",
      "source": [
        "#7. Crie uma função que recebe uma lista de números e retorna a soma apenas dos números pares.\n",
        "\n",
        "lista= [12, 6, 1, 2, 3]\n",
        "def lis (lista):\n",
        "  return sum([x for x in lista if x % 2 == 0])\n",
        "print(lis(lista))"
      ],
      "metadata": {
        "colab": {
          "base_uri": "https://localhost:8080/"
        },
        "id": "5qLmmxtw9aOG",
        "outputId": "3b70bddc-1cb4-4f7a-fdda-92d372f2acd8"
      },
      "execution_count": null,
      "outputs": [
        {
          "output_type": "stream",
          "name": "stdout",
          "text": [
            "20\n"
          ]
        }
      ]
    }
  ]
}