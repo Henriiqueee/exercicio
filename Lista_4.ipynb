{
  "nbformat": 4,
  "nbformat_minor": 0,
  "metadata": {
    "colab": {
      "provenance": []
    },
    "kernelspec": {
      "name": "python3",
      "display_name": "Python 3"
    },
    "language_info": {
      "name": "python"
    }
  },
  "cells": [
    {
      "cell_type": "code",
      "source": [
        "#1. Contagem Progressiva\n",
        "#Escreva um programa que exiba os números de 1 a 20 na tela.\n",
        "\n",
        "for i in range(1, 21):\n",
        "    print(i)"
      ],
      "metadata": {
        "id": "yGh_51q9o0Vn",
        "colab": {
          "base_uri": "https://localhost:8080/"
        },
        "outputId": "b6f52c02-3e1a-405f-c89a-d3d0a45a8b56"
      },
      "execution_count": null,
      "outputs": [
        {
          "output_type": "stream",
          "name": "stdout",
          "text": [
            "1\n",
            "2\n",
            "3\n",
            "4\n",
            "5\n",
            "6\n",
            "7\n",
            "8\n",
            "9\n",
            "10\n",
            "11\n",
            "12\n",
            "13\n",
            "14\n",
            "15\n",
            "16\n",
            "17\n",
            "18\n",
            "19\n",
            "20\n"
          ]
        }
      ]
    },
    {
      "cell_type": "code",
      "source": [
        "#2. Números Pares\n",
        "#Mostre todos os números pares de 1 a 50.\n",
        "\n",
        "for i in range(1, 51):\n",
        "    if i % 2 == 0:\n",
        "        print(i)"
      ],
      "metadata": {
        "id": "zO6lhp0lo8hX",
        "colab": {
          "base_uri": "https://localhost:8080/"
        },
        "outputId": "ecb46395-a289-470d-e0bf-da1ef9742525"
      },
      "execution_count": null,
      "outputs": [
        {
          "output_type": "stream",
          "name": "stdout",
          "text": [
            "2\n",
            "4\n",
            "6\n",
            "8\n",
            "10\n",
            "12\n",
            "14\n",
            "16\n",
            "18\n",
            "20\n",
            "22\n",
            "24\n",
            "26\n",
            "28\n",
            "30\n",
            "32\n",
            "34\n",
            "36\n",
            "38\n",
            "40\n",
            "42\n",
            "44\n",
            "46\n",
            "48\n",
            "50\n"
          ]
        }
      ]
    },
    {
      "cell_type": "code",
      "source": [
        "#3. Tabuada\n",
        "#Peça para o usuário digitar um número e exiba a sua tabuada de 1 a 10.\n",
        "\n",
        "numero = int(input(\"Digite um número: \"))\n",
        "for i in range(1, 11):\n",
        "    print(f\"{numero} x {i} = {numero * i}\")"
      ],
      "metadata": {
        "id": "5Kb2nPO7pDHe",
        "colab": {
          "base_uri": "https://localhost:8080/"
        },
        "outputId": "881fbc95-ec73-4117-8029-364a89700e04"
      },
      "execution_count": null,
      "outputs": [
        {
          "output_type": "stream",
          "name": "stdout",
          "text": [
            "Digite um número: 8\n",
            "8 x 1 = 8\n",
            "8 x 2 = 16\n",
            "8 x 3 = 24\n",
            "8 x 4 = 32\n",
            "8 x 5 = 40\n",
            "8 x 6 = 48\n",
            "8 x 7 = 56\n",
            "8 x 8 = 64\n",
            "8 x 9 = 72\n",
            "8 x 10 = 80\n"
          ]
        }
      ]
    },
    {
      "cell_type": "code",
      "source": [
        "#4. Soma de Números\n",
        "#Calcule a soma de todos os números de 1 a 100 e exiba o resultado.\n",
        "\n",
        "soma = 0\n",
        "for i in range(1, 101):\n",
        "    soma += i\n",
        "print(f\"A soma de 1 a 100 é: {soma}\")"
      ],
      "metadata": {
        "id": "Zb8a_i-2pNb-",
        "colab": {
          "base_uri": "https://localhost:8080/"
        },
        "outputId": "0fc56fe6-cbe7-4f92-f97a-a99f10f9f227"
      },
      "execution_count": null,
      "outputs": [
        {
          "output_type": "stream",
          "name": "stdout",
          "text": [
            "A soma de 1 a 100 é: 5050\n"
          ]
        }
      ]
    },
    {
      "cell_type": "code",
      "source": [
        "#5. Média de Valores\n",
        "#Solicite que o usuário digite 5 números e exiba a média aritmética deles.\n",
        "\n",
        "usuario = []\n",
        "for i in range(5):\n",
        "    numero = float(input(\"Digite um número: \"))\n",
        "    usuario.append(numero)\n",
        "media = sum(usuario) / len(usuario)\n",
        "print(f\"A média dos números digitados é: {media}\")"
      ],
      "metadata": {
        "colab": {
          "base_uri": "https://localhost:8080/"
        },
        "id": "1DB-kqO7ZV3N",
        "outputId": "3815d5de-031c-4ef1-9ab6-c3d82554fea3"
      },
      "execution_count": null,
      "outputs": [
        {
          "output_type": "stream",
          "name": "stdout",
          "text": [
            "Digite um número: 4\n",
            "Digite um número: 6\n",
            "Digite um número: 7\n",
            "Digite um número: 9\n",
            "Digite um número: 13\n",
            "A média dos números digitados é: 7.8\n"
          ]
        }
      ]
    },
    {
      "cell_type": "code",
      "source": [
        "#6. Múltiplos de 3\n",
        "#Mostre todos os números que são múltiplos de 3 até 30.\n",
        "\n",
        "for i in range(1, 31):\n",
        "    if i % 3 == 0:\n",
        "        print(i)"
      ],
      "metadata": {
        "colab": {
          "base_uri": "https://localhost:8080/"
        },
        "id": "09CxkLrlaAki",
        "outputId": "78cf2c9d-ff26-42dd-a3ef-05bf2fb65fe9"
      },
      "execution_count": null,
      "outputs": [
        {
          "output_type": "stream",
          "name": "stdout",
          "text": [
            "3\n",
            "6\n",
            "9\n",
            "12\n",
            "15\n",
            "18\n",
            "21\n",
            "24\n",
            "27\n",
            "30\n"
          ]
        }
      ]
    },
    {
      "cell_type": "code",
      "source": [
        "#7. Contar Números Negativos\n",
        "#Dada uma lista de números, conte e exiba quantos são negativos.\n",
        "\n",
        "numeros = [1, -2, 3, -4, 5, -6, 7]\n",
        "contador_negativo = 0\n",
        "\n",
        "for numero in numeros:\n",
        "    if numero < 0:\n",
        "        contador_negativo += 1\n",
        "\n",
        "print(\"Quantidade de números negativos:\", contador_negativo)"
      ],
      "metadata": {
        "colab": {
          "base_uri": "https://localhost:8080/"
        },
        "id": "ylrD9saiaJLP",
        "outputId": "6bb38189-37fc-47f1-cfd7-c3c6ae518b27"
      },
      "execution_count": null,
      "outputs": [
        {
          "output_type": "stream",
          "name": "stdout",
          "text": [
            "Quantidade de números negativos: 3\n"
          ]
        }
      ]
    },
    {
      "cell_type": "code",
      "source": [
        "#8. Pirâmide de Asteriscos\n",
        "#Peça ao usuário um número e exiba um triângulo de asteriscos com essa altura.\n",
        "\n",
        "altura = int (input(\"Digite a altura da piramide: \"))\n",
        "for i in range(1, altura + 1):\n",
        "   print(i * \"*\")\n"
      ],
      "metadata": {
        "colab": {
          "base_uri": "https://localhost:8080/"
        },
        "id": "5s5OimS2af1P",
        "outputId": "cf633ff0-db13-4ab1-b727-e871aa6f9433"
      },
      "execution_count": null,
      "outputs": [
        {
          "output_type": "stream",
          "name": "stdout",
          "text": [
            "Digite a altura da piramide: 7\n",
            "*\n",
            "**\n",
            "***\n",
            "****\n",
            "*****\n",
            "******\n",
            "*******\n"
          ]
        }
      ]
    },
    {
      "cell_type": "code",
      "source": [
        "#9. Contagem Regressiva\n",
        "#Exiba uma contagem regressiva de 10 a 1, seguida da mensagem FIM!\n",
        "\n",
        "for i in range(10, 0, -1):\n",
        " print(i)\n",
        "print(\"FIM!\")"
      ],
      "metadata": {
        "colab": {
          "base_uri": "https://localhost:8080/"
        },
        "id": "UCdIbuFvcGdP",
        "outputId": "7d66e84c-79d4-4e0c-91d4-87cc9a6fedd3"
      },
      "execution_count": null,
      "outputs": [
        {
          "output_type": "stream",
          "name": "stdout",
          "text": [
            "10\n",
            "9\n",
            "8\n",
            "7\n",
            "6\n",
            "5\n",
            "4\n",
            "3\n",
            "2\n",
            "1\n",
            "FIM!\n"
          ]
        }
      ]
    },
    {
      "cell_type": "code",
      "source": [
        "#10. Substituir Negativos\n",
        "#Dada uma lista de números, substitua os números negativos por zero e exiba a nova lista.\n",
        "\n",
        "numeros = [1, -2, 3, -4, 5, -6, 7]\n",
        "contar_negativos= 0\n",
        "\n",
        "for numNegativo in range(len(numeros)):\n",
        "    if numeros[numNegativo] < 0:\n",
        "      numeros[numNegativo] = 0\n",
        "\n",
        "print(numeros)"
      ],
      "metadata": {
        "colab": {
          "base_uri": "https://localhost:8080/"
        },
        "id": "og0aWT71dkYB",
        "outputId": "29857e85-11ef-4025-fc38-8e6a619d27e4"
      },
      "execution_count": null,
      "outputs": [
        {
          "output_type": "stream",
          "name": "stdout",
          "text": [
            "[1, 0, 3, 0, 5, 0, 7]\n"
          ]
        }
      ]
    },
    {
      "cell_type": "code",
      "source": [
        "#11. Solicite ao usuário um número e exiba os 10 primeiros múltiplos desse número.\n",
        "\n",
        "numero = int(input(\"Digite um número: \"))\n",
        "\n",
        "for i in range(1, 11):\n",
        "    print(numero * i)"
      ],
      "metadata": {
        "colab": {
          "base_uri": "https://localhost:8080/"
        },
        "id": "8jEIRnvGfJOm",
        "outputId": "92672852-20af-4be4-991d-94aa185ae16d"
      },
      "execution_count": null,
      "outputs": [
        {
          "output_type": "stream",
          "name": "stdout",
          "text": [
            "Digite um número: 4\n",
            "4\n",
            "8\n",
            "12\n",
            "16\n",
            "20\n",
            "24\n",
            "28\n",
            "32\n",
            "36\n",
            "40\n"
          ]
        }
      ]
    },
    {
      "cell_type": "code",
      "source": [
        "#12. Peça ao usuário para digitar uma palavra e exiba quantas vogais ela contém.\n",
        "\n",
        "palavras = input(\"Digite uma palavra: \")\n",
        "vogais = \"aeiouAEIOU\"\n",
        "contador_vogais = 0\n",
        "for letra in palavras:\n",
        "    if letra in vogais:\n",
        "        contador_vogais += 1\n",
        "\n",
        "print(f\"A palavra '{palavras}' contém {contador_vogais} vogais.\")"
      ],
      "metadata": {
        "colab": {
          "base_uri": "https://localhost:8080/"
        },
        "id": "gVdju1ZMgFVX",
        "outputId": "ae8c446f-9f96-4656-ab7a-35ab1185153d"
      },
      "execution_count": null,
      "outputs": [
        {
          "output_type": "stream",
          "name": "stdout",
          "text": [
            "Digite uma palavra: livro\n",
            "A palavra 'livro' contém 2 vogais.\n"
          ]
        }
      ]
    },
    {
      "cell_type": "code",
      "source": [
        "#13. Mostre todos os números divisíveis por 5 no intervalo de 1 a 50.\n",
        "\n",
        "for i in range(1, 51):\n",
        "    if i % 5 == 0:\n",
        "        print(i)"
      ],
      "metadata": {
        "colab": {
          "base_uri": "https://localhost:8080/"
        },
        "id": "s8fz2XCygLf2",
        "outputId": "88cea910-172c-41c2-97cf-ab339c538183"
      },
      "execution_count": null,
      "outputs": [
        {
          "output_type": "stream",
          "name": "stdout",
          "text": [
            "5\n",
            "10\n",
            "15\n",
            "20\n",
            "25\n",
            "30\n",
            "35\n",
            "40\n",
            "45\n",
            "50\n"
          ]
        }
      ]
    },
    {
      "cell_type": "code",
      "source": [
        "#14. Dada uma lista de números, conte e exiba quantos são pares.\n",
        "\n",
        "numero = [1, 2, 3, 4, 5, 6, 7, 8, 9, 10]\n",
        "for i in numero:\n",
        "    if i % 2 == 0:\n",
        "        print(i)"
      ],
      "metadata": {
        "colab": {
          "base_uri": "https://localhost:8080/"
        },
        "id": "MZ8hDDDmgNPd",
        "outputId": "415add7c-6e44-4032-93d4-e47df5247528"
      },
      "execution_count": null,
      "outputs": [
        {
          "output_type": "stream",
          "name": "stdout",
          "text": [
            "2\n",
            "4\n",
            "6\n",
            "8\n",
            "10\n"
          ]
        }
      ]
    },
    {
      "cell_type": "code",
      "source": [
        "#15. Inverter uma Palavra\n",
        "#Peça ao usuário para digitar uma palavra e exiba essa palavra invertida.\n",
        "\n",
        "palavra = input(\"Digite uma palavra: \")\n",
        "palavra_invertida = palavra[::-1]\n",
        "print(f\"A palavra invertida é: {palavra_invertida}\")"
      ],
      "metadata": {
        "colab": {
          "base_uri": "https://localhost:8080/"
        },
        "id": "7yjrhFTJg6VJ",
        "outputId": "04418d57-ef8e-4a4f-d814-2cdcfa53f202"
      },
      "execution_count": null,
      "outputs": [
        {
          "output_type": "stream",
          "name": "stdout",
          "text": [
            "Digite uma palavra: inglaterra\n",
            "A palavra invertida é: arretalgni\n"
          ]
        }
      ]
    },
    {
      "cell_type": "code",
      "source": [
        "#16. Exibir Números Ímpares\n",
        "#Mostre todos os números ímpares de 1 a 20.\n",
        "\n",
        "for impar in range(1, 21):\n",
        "    if impar % 2 != 0:\n",
        "        print(impar)"
      ],
      "metadata": {
        "colab": {
          "base_uri": "https://localhost:8080/"
        },
        "id": "XpHsiJNfhZVM",
        "outputId": "17d6ebbd-4951-46b1-b206-c4c22519444d"
      },
      "execution_count": null,
      "outputs": [
        {
          "output_type": "stream",
          "name": "stdout",
          "text": [
            "1\n",
            "3\n",
            "5\n",
            "7\n",
            "9\n",
            "11\n",
            "13\n",
            "15\n",
            "17\n",
            "19\n"
          ]
        }
      ]
    },
    {
      "cell_type": "code",
      "source": [
        "#17. Criar um Triângulo Numérico\n",
        "#Solicite um número ao usuário e exiba um triângulo numérico crescente.\n",
        "\n",
        "numero = int(input(\"Digite um número: \"))\n",
        "\n",
        "for i in range(1, numero + 1):\n",
        "    for j in range(1, i + 1):\n",
        "        print(j, end=\" \")\n",
        "    print()"
      ],
      "metadata": {
        "colab": {
          "base_uri": "https://localhost:8080/"
        },
        "id": "MQdOhCQikmWl",
        "outputId": "4cb5ed01-c100-4472-b348-c4a14f6a1e06"
      },
      "execution_count": null,
      "outputs": [
        {
          "output_type": "stream",
          "name": "stdout",
          "text": [
            "Digite um número: 4\n",
            "1 \n",
            "1 2 \n",
            "1 2 3 \n",
            "1 2 3 4 \n"
          ]
        }
      ]
    },
    {
      "cell_type": "code",
      "source": [
        "#18. Calcular o Fatorial\n",
        "#Peça para o usuário digitar um número e exiba o fatorial desse número.\n",
        "\n",
        "numero = int(input(\"Digite um número: \"))\n",
        "fatorial = 1\n",
        "\n",
        "for i in range(1, numero + 1):\n",
        "    fatorial *= i\n",
        "\n",
        "print(f\"O fatorial de {numero} é: {fatorial}\")"
      ],
      "metadata": {
        "colab": {
          "base_uri": "https://localhost:8080/"
        },
        "id": "tORZ0u8Ch6EF",
        "outputId": "961c9edf-9396-4dba-da4c-2593277c0843"
      },
      "execution_count": null,
      "outputs": [
        {
          "output_type": "stream",
          "name": "stdout",
          "text": [
            "Digite um número: 8\n",
            "O fatorial de 8 é: 40320\n"
          ]
        }
      ]
    },
    {
      "cell_type": "code",
      "source": [
        "#19. Contar uma Letra em uma Frase\n",
        "#Solicite uma frase e uma letra ao usuário e exiba quantas vezes essa letra aparece na frase.\n",
        "\n",
        "frase = input(\"digite uma frase:\")\n",
        "letra = input(\"digite uma letra:\")\n",
        "contador = 0\n",
        "for i in frase:\n",
        "    if i == letra:\n",
        "        contador += 1\n",
        "print(f\"A letra '{letra}' aparece {contador} vezes na frase.\")"
      ],
      "metadata": {
        "colab": {
          "base_uri": "https://localhost:8080/"
        },
        "id": "yylvhyv0k-e3",
        "outputId": "343eb27f-6b64-4b21-bb71-464c6f1afb5b"
      },
      "execution_count": null,
      "outputs": [
        {
          "output_type": "stream",
          "name": "stdout",
          "text": [
            "digite uma frase:somar valor \n",
            "digite uma letra:o\n",
            "A letra 'o' aparece 2 vezes na frase.\n"
          ]
        }
      ]
    }
  ]
}