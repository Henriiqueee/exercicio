{
  "nbformat": 4,
  "nbformat_minor": 0,
  "metadata": {
    "colab": {
      "provenance": []
    },
    "kernelspec": {
      "name": "python3",
      "display_name": "Python 3"
    },
    "language_info": {
      "name": "python"
    }
  },
  "cells": [
    {
      "cell_type": "code",
      "source": [
        "#Solicite ao usuário um número inteiro positivo e exiba apenas os números pares de 2 até esse número.\n",
        "\n",
        "numero = int(input(\"Digite um número inteiro positivo: \"))\n",
        "\n",
        "while numero <= 0:\n",
        "    print(\"Por favor, digite um número inteiro positivo.\")\n",
        "    numero = int(input(\"Digite um número inteiro positivo: \"))\n",
        "\n",
        "print(\"Números pares de 2 até\", numero, \":\")\n",
        "for i in range(2, numero + 1):\n",
        "    if i % 2 == 0:\n",
        "        print(i)\n",
        "\n"
      ],
      "metadata": {
        "colab": {
          "base_uri": "https://localhost:8080/"
        },
        "id": "0hZIKJqp0cVr",
        "outputId": "35314255-f473-42fe-e8b7-acee6428dc25"
      },
      "execution_count": null,
      "outputs": [
        {
          "output_type": "stream",
          "name": "stdout",
          "text": [
            "Digite um número inteiro positivo: 12\n",
            "Números pares de 2 até 12 :\n",
            "2\n",
            "4\n",
            "6\n",
            "8\n",
            "10\n",
            "12\n"
          ]
        }
      ]
    },
    {
      "cell_type": "code",
      "source": [
        "#2. Solicite ao usuário que insira uma senha e continue pedindo até que ele insira a senha correta definida previamente.\n",
        "\n",
        "senha_correta = \"senha123\"\n",
        "senha_digitada = input(\"Digite a senha: \")\n",
        "\n",
        "while senha_digitada != senha_correta:\n",
        "    print(\"Senha incorreta. Tente novamente.\")\n",
        "    senha_digitada = input(\"Digite a senha: \")\n",
        "\n",
        "    print(\"Acesso permitido!\")"
      ],
      "metadata": {
        "id": "SJbtS04Y1HOn"
      },
      "execution_count": null,
      "outputs": []
    },
    {
      "cell_type": "code",
      "source": [
        "#3. Peça ao usuário que insira notas (valores numéricos). A entrada deve continuar até que o usuário digite -1. Em seguida, exiba a média das notas.\n",
        "\n",
        "notas = []\n",
        "nota = float(input(\"Digite uma nota (ou -1 para sair): \"))\n",
        "\n",
        "while nota != -1:\n",
        "    notas.append(nota)\n",
        "    nota = float(input(\"Digite uma nota (ou -1 para sair): \"))\n",
        "\n",
        "    if len(notas) > 0:\n",
        "        media = sum(notas) / len(notas)\n",
        "        print(\"Média das notas:\", media)"
      ],
      "metadata": {
        "colab": {
          "base_uri": "https://localhost:8080/"
        },
        "id": "v4-5FfUc1VB2",
        "outputId": "59cb97e1-14da-41b6-9719-83c7f86a0bed"
      },
      "execution_count": null,
      "outputs": [
        {
          "output_type": "stream",
          "name": "stdout",
          "text": [
            "Digite uma nota (ou -1 para sair): 13\n",
            "Digite uma nota (ou -1 para sair): 12\n",
            "Média das notas: 13.0\n",
            "Digite uma nota (ou -1 para sair): 23\n",
            "Média das notas: 12.5\n",
            "Digite uma nota (ou -1 para sair): 42\n",
            "Média das notas: 16.0\n",
            "Digite uma nota (ou -1 para sair): 3\n",
            "Média das notas: 22.5\n",
            "Digite uma nota (ou -1 para sair): -1\n",
            "Média das notas: 18.6\n"
          ]
        }
      ]
    },
    {
      "cell_type": "code",
      "source": [
        "#4. Solicite ao usuário que insira números. O programa deve continuar até que um número negativo seja inserido. No final, exiba o maior número informado.\n",
        "\n",
        "maior_numero = None\n",
        "\n",
        "while True:\n",
        "    numero = float(input(\"Insira um número (ou um número negativo para sair): \"))\n",
        "\n",
        "    if numero < 0:\n",
        "        break\n",
        "\n",
        "    if maior_numero is None or numero > maior_numero:\n",
        "        maior_numero = numero\n",
        "\n",
        "if maior_numero is not None:\n",
        "    print(\"O maior número informado foi:\", maior_numero)\n",
        "else:\n",
        "    print(\"Nenhum número válido foi informado.\")\n",
        "\n"
      ],
      "metadata": {
        "id": "B8ZVrgiQ2Gfq"
      },
      "execution_count": null,
      "outputs": []
    }
  ]
}