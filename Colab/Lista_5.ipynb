{
  "nbformat": 4,
  "nbformat_minor": 0,
  "metadata": {
    "colab": {
      "provenance": []
    },
    "kernelspec": {
      "name": "python3",
      "display_name": "Python 3"
    },
    "language_info": {
      "name": "python"
    }
  },
  "cells": [
    {
      "cell_type": "code",
      "source": [
        "X = 6 + 4 * 2\n",
        "print(X)"
      ],
      "metadata": {
        "colab": {
          "base_uri": "https://localhost:8080/"
        },
        "id": "zDm8L1GyT1m_",
        "outputId": "bb3d93de-3408-48fb-bb4f-5adacba7f19b"
      },
      "execution_count": null,
      "outputs": [
        {
          "output_type": "stream",
          "name": "stdout",
          "text": [
            "14\n"
          ]
        }
      ]
    },
    {
      "cell_type": "code",
      "source": [
        "X = (4 * 9 + 5)\n",
        "print(X)"
      ],
      "metadata": {
        "colab": {
          "base_uri": "https://localhost:8080/"
        },
        "id": "bIHCFdY6T_Ra",
        "outputId": "4be9cb0d-c70c-4ccb-d067-ff2fce70c8b1"
      },
      "execution_count": null,
      "outputs": [
        {
          "output_type": "stream",
          "name": "stdout",
          "text": [
            "41\n"
          ]
        }
      ]
    },
    {
      "cell_type": "code",
      "source": [
        "X = ((6 + 7) * 9)\n",
        "print(X)"
      ],
      "metadata": {
        "colab": {
          "base_uri": "https://localhost:8080/"
        },
        "id": "2ss-GomFUBCI",
        "outputId": "70440091-71e1-4213-e465-82606009974b"
      },
      "execution_count": null,
      "outputs": [
        {
          "output_type": "stream",
          "name": "stdout",
          "text": [
            "117\n"
          ]
        }
      ]
    },
    {
      "cell_type": "code",
      "source": [
        "X = (15 + 20 - 30)\n",
        "print(X)"
      ],
      "metadata": {
        "colab": {
          "base_uri": "https://localhost:8080/"
        },
        "id": "6ZCHBiq7UErB",
        "outputId": "e1788a4f-3a16-4928-c387-58d4f399c84f"
      },
      "execution_count": null,
      "outputs": [
        {
          "output_type": "stream",
          "name": "stdout",
          "text": [
            "5\n"
          ]
        }
      ]
    },
    {
      "cell_type": "code",
      "source": [
        "X = (6 + 5**2 )\n",
        "print(X)"
      ],
      "metadata": {
        "id": "CH7Ao9AvUIIL",
        "outputId": "66f2bd86-6b8d-4e0a-d211-b8e406cf884a",
        "colab": {
          "base_uri": "https://localhost:8080/"
        }
      },
      "execution_count": null,
      "outputs": [
        {
          "output_type": "stream",
          "name": "stdout",
          "text": [
            "31\n"
          ]
        }
      ]
    },
    {
      "cell_type": "code",
      "source": [
        "x=8\n",
        "x+=5\n",
        "print(x)"
      ],
      "metadata": {
        "colab": {
          "base_uri": "https://localhost:8080/"
        },
        "id": "-lvEkEjGFYqr",
        "outputId": "c3402dc1-7b69-43fd-f2ad-faa435cf7cd0"
      },
      "execution_count": null,
      "outputs": [
        {
          "output_type": "stream",
          "name": "stdout",
          "text": [
            "13\n"
          ]
        }
      ]
    },
    {
      "cell_type": "code",
      "source": [
        "x=8\n",
        "x-=4\n",
        "print(x)"
      ],
      "metadata": {
        "colab": {
          "base_uri": "https://localhost:8080/"
        },
        "id": "A1FPdsbtFmzx",
        "outputId": "97207258-a3a7-48a1-9142-4d8ecdb6a76d"
      },
      "execution_count": null,
      "outputs": [
        {
          "output_type": "stream",
          "name": "stdout",
          "text": [
            "4\n"
          ]
        }
      ]
    },
    {
      "cell_type": "code",
      "source": [
        "x=8\n",
        "x*=20\n",
        "print(x)"
      ],
      "metadata": {
        "colab": {
          "base_uri": "https://localhost:8080/"
        },
        "id": "vYrx0CLBF0-u",
        "outputId": "5e4679c2-3bab-457e-c193-ce5fdfc09d9f"
      },
      "execution_count": null,
      "outputs": [
        {
          "output_type": "stream",
          "name": "stdout",
          "text": [
            "160\n"
          ]
        }
      ]
    },
    {
      "cell_type": "code",
      "source": [
        "x=8\n",
        "x/=2\n",
        "print(x)"
      ],
      "metadata": {
        "colab": {
          "base_uri": "https://localhost:8080/"
        },
        "id": "u9cfy38cF7C-",
        "outputId": "1ba1e7db-fbb9-48cf-c0e2-3939afc8bcb4"
      },
      "execution_count": null,
      "outputs": [
        {
          "output_type": "stream",
          "name": "stdout",
          "text": [
            "4.0\n"
          ]
        }
      ]
    },
    {
      "cell_type": "code",
      "source": [
        "x=8\n",
        "x1=3\n",
        "xresultado= x>=x1\n",
        "print(xresultado)"
      ],
      "metadata": {
        "colab": {
          "base_uri": "https://localhost:8080/"
        },
        "id": "TnrTylG3HXc6",
        "outputId": "a45df43e-5b6d-4d8d-dc1c-0e2edb25cfe1"
      },
      "execution_count": null,
      "outputs": [
        {
          "output_type": "stream",
          "name": "stdout",
          "text": [
            "True\n"
          ]
        }
      ]
    },
    {
      "cell_type": "code",
      "source": [
        "x=8\n",
        "x1=3\n",
        "xresultado= x<=x1\n",
        "print(xresultado)"
      ],
      "metadata": {
        "colab": {
          "base_uri": "https://localhost:8080/"
        },
        "id": "LmJcXWVQHiVF",
        "outputId": "20bcb156-824a-4d9e-f8d9-e29c554af6fa"
      },
      "execution_count": null,
      "outputs": [
        {
          "output_type": "stream",
          "name": "stdout",
          "text": [
            "False\n"
          ]
        }
      ]
    },
    {
      "cell_type": "code",
      "source": [
        "x=8\n",
        "x1=3\n",
        "xresultado= x==x1\n",
        "print(xresultado)"
      ],
      "metadata": {
        "colab": {
          "base_uri": "https://localhost:8080/"
        },
        "id": "lSX1rMFhHsiw",
        "outputId": "1b1079c7-d068-4eb9-9b24-48e26c83bee3"
      },
      "execution_count": null,
      "outputs": [
        {
          "output_type": "stream",
          "name": "stdout",
          "text": [
            "False\n"
          ]
        }
      ]
    },
    {
      "cell_type": "code",
      "source": [
        "x=8\n",
        "x1=3\n",
        "xresultado= x!=x1\n",
        "print(xresultado)"
      ],
      "metadata": {
        "colab": {
          "base_uri": "https://localhost:8080/"
        },
        "id": "r72skpMJHx-N",
        "outputId": "6326bb07-93c7-46d2-a6c7-ef16f6b0397e"
      },
      "execution_count": null,
      "outputs": [
        {
          "output_type": "stream",
          "name": "stdout",
          "text": [
            "True\n"
          ]
        }
      ]
    },
    {
      "cell_type": "code",
      "source": [
        "x= \"botafogo\"\n",
        "x1= \"flamengo\"\n",
        "x3= \"botafogo\"\n",
        "xresultado= x is x3\n",
        "print(xresultado)"
      ],
      "metadata": {
        "colab": {
          "base_uri": "https://localhost:8080/"
        },
        "id": "28TWTEIyMVQD",
        "outputId": "185c40b8-e3a3-4f47-def0-1dea18b48bf1"
      },
      "execution_count": null,
      "outputs": [
        {
          "output_type": "stream",
          "name": "stdout",
          "text": [
            "True\n"
          ]
        }
      ]
    },
    {
      "cell_type": "code",
      "source": [
        "x= \"botafogo\"\n",
        "x1= \"flamengo\"\n",
        "x3= \"botafogo\"\n",
        "xresultado= x is not x3\n",
        "print(xresultado)"
      ],
      "metadata": {
        "colab": {
          "base_uri": "https://localhost:8080/"
        },
        "id": "IenKzpWrNE-2",
        "outputId": "ad4218d3-4dcd-4664-cde7-750dc3b586f5"
      },
      "execution_count": null,
      "outputs": [
        {
          "output_type": "stream",
          "name": "stdout",
          "text": [
            "False\n"
          ]
        }
      ]
    },
    {
      "cell_type": "code",
      "source": [
        "x= \"botafogo\"\n",
        "x1= \"flamengo\"\n",
        "x3= \"botafogo\"\n",
        "xresultado= x1 is x3\n",
        "print(xresultado)"
      ],
      "metadata": {
        "colab": {
          "base_uri": "https://localhost:8080/"
        },
        "id": "eoAzP6_eNNav",
        "outputId": "04c7846a-4c96-458a-db03-2e5276ea3573"
      },
      "execution_count": null,
      "outputs": [
        {
          "output_type": "stream",
          "name": "stdout",
          "text": [
            "False\n"
          ]
        }
      ]
    },
    {
      "cell_type": "code",
      "source": [
        "x= \"botafogo\"\n",
        "x1= \"flamengo\"\n",
        "x3= \"botafogo\"\n",
        "xresultado= x1 is not x3\n",
        "print(xresultado)"
      ],
      "metadata": {
        "colab": {
          "base_uri": "https://localhost:8080/"
        },
        "id": "_T_QdeUgNYLo",
        "outputId": "4805463f-0a89-4a43-dd4c-70bd4cc993b8"
      },
      "execution_count": null,
      "outputs": [
        {
          "output_type": "stream",
          "name": "stdout",
          "text": [
            "True\n"
          ]
        }
      ]
    },
    {
      "cell_type": "code",
      "source": [
        "frutas=[\"banana\", \"laranja\", \"abacaxi\"]\n",
        "xresultado= x in frutas\n",
        "print(x not in frutas)"
      ],
      "metadata": {
        "colab": {
          "base_uri": "https://localhost:8080/"
        },
        "id": "QeUXEe80OyNh",
        "outputId": "8357602a-ddf6-499e-880c-a7b57a91824d"
      },
      "execution_count": null,
      "outputs": [
        {
          "output_type": "stream",
          "name": "stdout",
          "text": [
            "True\n"
          ]
        }
      ]
    },
    {
      "cell_type": "code",
      "source": [
        "x=\"banana\"\n",
        "x2 =\"laranja\"\n",
        "x3 =\"abacaxi\"\n",
        "xresultado= x in frutas\n",
        "print(xresultado)"
      ],
      "metadata": {
        "colab": {
          "base_uri": "https://localhost:8080/"
        },
        "id": "1mXLeU4nRjVP",
        "outputId": "73bed068-e689-427b-a630-44fdce4989ff"
      },
      "execution_count": null,
      "outputs": [
        {
          "output_type": "stream",
          "name": "stdout",
          "text": [
            "True\n"
          ]
        }
      ]
    },
    {
      "cell_type": "code",
      "source": [
        "X=4\n",
        "X1=9\n",
        "X2=5\n",
        "XResult = (((2 + 5) * 3) + X + 5) < X1\n",
        "print(XResult)"
      ],
      "metadata": {
        "colab": {
          "base_uri": "https://localhost:8080/"
        },
        "id": "wmZV7t23Rzko",
        "outputId": "779459d0-e224-4b9b-acd2-99ccbb90d049"
      },
      "execution_count": null,
      "outputs": [
        {
          "output_type": "stream",
          "name": "stdout",
          "text": [
            "False\n"
          ]
        }
      ]
    },
    {
      "cell_type": "code",
      "source": [
        "X=4\n",
        "X1=9\n",
        "X2=5\n",
        "XResult = (((2 + 5) * 3) + (X + 5 < X1) == (X == 6 + X2 * 2))\n",
        "print(XResult)"
      ],
      "metadata": {
        "colab": {
          "base_uri": "https://localhost:8080/"
        },
        "id": "akalbG2xS9VM",
        "outputId": "b3ac66c2-5166-466e-b663-7de358df0a6d"
      },
      "execution_count": null,
      "outputs": [
        {
          "output_type": "stream",
          "name": "stdout",
          "text": [
            "False\n"
          ]
        }
      ]
    },
    {
      "cell_type": "code",
      "source": [
        "X=4\n",
        "X1=9\n",
        "X2=5\n",
        "XResult = (((3 * 6) + X - 3) < X2)\n",
        "print(XResult)"
      ],
      "metadata": {
        "colab": {
          "base_uri": "https://localhost:8080/"
        },
        "id": "SkUtTOANTKwg",
        "outputId": "fa76c463-95c6-470a-bec1-53a99c676bce"
      },
      "execution_count": null,
      "outputs": [
        {
          "output_type": "stream",
          "name": "stdout",
          "text": [
            "False\n"
          ]
        }
      ]
    },
    {
      "cell_type": "code",
      "source": [
        "X=4\n",
        "X1=9\n",
        "X2=5\n",
        "XResult = (((7 * 8) > (X + 4 > X1) < (X != 2 + X2 * 9)))\n",
        "print(XResult)"
      ],
      "metadata": {
        "colab": {
          "base_uri": "https://localhost:8080/"
        },
        "id": "tfb8Ga7nTSMw",
        "outputId": "270b20bb-441a-4c0d-f9f0-4acc47748c09"
      },
      "execution_count": null,
      "outputs": [
        {
          "output_type": "stream",
          "name": "stdout",
          "text": [
            "True\n"
          ]
        }
      ]
    }
  ]
}