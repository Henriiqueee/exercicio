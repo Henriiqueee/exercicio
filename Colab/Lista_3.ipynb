{
  "nbformat": 4,
  "nbformat_minor": 0,
  "metadata": {
    "colab": {
      "provenance": []
    },
    "kernelspec": {
      "name": "python3",
      "display_name": "Python 3"
    },
    "language_info": {
      "name": "python"
    }
  },
  "cells": [
    {
      "cell_type": "code",
      "execution_count": null,
      "metadata": {
        "colab": {
          "base_uri": "https://localhost:8080/"
        },
        "id": "H3CKO1rOfX0N",
        "outputId": "bf13ffe5-1ee8-4b48-949b-e2fb43091e04"
      },
      "outputs": [
        {
          "output_type": "stream",
          "name": "stdout",
          "text": [
            "Digite um número: 23\n",
            "Digite outro número: 12\n",
            "35\n"
          ]
        }
      ],
      "source": [
        "#ex 1. função que receba dois números como parâmetros e retorne a soma deles.\n",
        "\n",
        "a = int(input(\"Digite um número: \"))\n",
        "b = int(input(\"Digite outro número: \"))\n",
        "def soma (a, b):\n",
        "    return a + b\n",
        "\n",
        "print(soma(a,b))"
      ]
    },
    {
      "cell_type": "code",
      "source": [
        "#ex 2. função que receba um número e retorne \"Par\" ou \"Ímpar\";\n",
        "\n",
        "numero = int(input(\"Digite um número: \"))\n",
        "def par_impar (num):\n",
        "    if num % 2 == 0:\n",
        "        return \"Par\"\n",
        "    else:\n",
        "        return \"Ímpar\"\n",
        "print(par_impar(numero))"
      ],
      "metadata": {
        "colab": {
          "base_uri": "https://localhost:8080/"
        },
        "id": "FFbzF7wSgyiC",
        "outputId": "f61c3775-4bc4-4ea9-dd33-397e03f18a0e"
      },
      "execution_count": null,
      "outputs": [
        {
          "output_type": "stream",
          "name": "stdout",
          "text": [
            "Digite um número: 1\n",
            "Ímpar\n"
          ]
        }
      ]
    },
    {
      "cell_type": "code",
      "source": [
        "#ex 3. função chamada media_lista que recebe uma lista de números e retorna a média deles.\n",
        "\n",
        "media_lista= int(input(\"Digite um número: \"))\n",
        "\n",
        "def media (media_lista):\n",
        " return (media_lista)  / 3\n",
        "\n",
        "print(media(media_lista))"
      ],
      "metadata": {
        "colab": {
          "base_uri": "https://localhost:8080/"
        },
        "id": "r0AbQxwlhhPM",
        "outputId": "20e38976-ace6-4eb1-e3eb-bbb151bce9c5"
      },
      "execution_count": null,
      "outputs": [
        {
          "output_type": "stream",
          "name": "stdout",
          "text": [
            "Digite um número: 2\n",
            "0.6666666666666666\n"
          ]
        }
      ]
    },
    {
      "cell_type": "code",
      "source": [
        "#ex 4. Crie uma função que calcule o fatorial de um número.\n",
        "\n",
        "numero = int(input(\"Digite um número: \"))\n",
        "def fatorial(num):\n",
        "    if num == 0:\n",
        "        return 1\n",
        "    else:\n",
        "        return num * fatorial(num - 1)\n",
        "\n",
        "print(fatorial(numero))"
      ],
      "metadata": {
        "colab": {
          "base_uri": "https://localhost:8080/"
        },
        "id": "oAUSZ42MiX39",
        "outputId": "17d158ce-9704-46e8-a42b-a8ab184eacd4"
      },
      "execution_count": null,
      "outputs": [
        {
          "output_type": "stream",
          "name": "stdout",
          "text": [
            "Digite um número: 5\n",
            "120\n"
          ]
        }
      ]
    },
    {
      "cell_type": "code",
      "source": [
        "#ex 5. Crie uma função chamada tabuada que recebe um número e imprime sua tabuada do 1 ao 10.\n",
        "\n",
        "numero = int(input(\"Digite um número: \"))\n",
        "def tabuada(num):\n",
        "    for i in range(1, 11):\n",
        "        print(f\"{num} x {i} = {num * i}\")\n",
        "\n",
        "tabuada(numero)"
      ],
      "metadata": {
        "colab": {
          "base_uri": "https://localhost:8080/"
        },
        "id": "GAjGA85Siqdp",
        "outputId": "3d87071a-ccae-41e2-da9a-e6154adee2c8"
      },
      "execution_count": null,
      "outputs": [
        {
          "output_type": "stream",
          "name": "stdout",
          "text": [
            "Digite um número: 2\n",
            "2 x 1 = 2\n",
            "2 x 2 = 4\n",
            "2 x 3 = 6\n",
            "2 x 4 = 8\n",
            "2 x 5 = 10\n",
            "2 x 6 = 12\n",
            "2 x 7 = 14\n",
            "2 x 8 = 16\n",
            "2 x 9 = 18\n",
            "2 x 10 = 20\n"
          ]
        }
      ]
    },
    {
      "cell_type": "code",
      "source": [
        "#ex 6. função que receba uma string e retorne True se ela for um palíndromo ou False caso contrário.\n",
        "\n",
        "def palindromo(texto):\n",
        "    texto = texto.replace(\" \", \"\").lower()\n",
        "    return texto == texto[::-1]\n",
        "\n",
        "print(palindromo(\"Socorram-me, subi no onibus em Marrocos\"))"
      ],
      "metadata": {
        "colab": {
          "base_uri": "https://localhost:8080/"
        },
        "id": "pjfZ4D_-jK2S",
        "outputId": "7e653ae0-6693-407b-8732-9c10f0fd2911"
      },
      "execution_count": null,
      "outputs": [
        {
          "output_type": "stream",
          "name": "stdout",
          "text": [
            "False\n"
          ]
        }
      ]
    },
    {
      "cell_type": "code",
      "source": [
        "#ex 7. Crie uma função que receba uma lista de números e retorne o maior número dessa lista.\n",
        "\n",
        "lista = [1, 2, 3, 4, 5]\n",
        "def maior_numero(lista):\n",
        "    maior = lista[0]\n",
        "    for numero in lista:\n",
        "        if numero > maior:\n",
        "            maior = numero\n",
        "    return maior\n",
        "print(maior_numero(lista))"
      ],
      "metadata": {
        "colab": {
          "base_uri": "https://localhost:8080/"
        },
        "id": "D4OC9rYFjnQy",
        "outputId": "e0de1370-3b5b-42f2-a59d-96a359abd153"
      },
      "execution_count": null,
      "outputs": [
        {
          "output_type": "stream",
          "name": "stdout",
          "text": [
            "5\n"
          ]
        }
      ]
    },
    {
      "cell_type": "code",
      "source": [
        "#ex 8. Crie uma função que receba uma lista de notas e retorne a média das notas.\n",
        "nota= [7.0, 10.0, 8.5, 4.5]\n",
        "def lista (nota):\n",
        "    return sum(nota) / len(nota)\n",
        "print(lista(nota))"
      ],
      "metadata": {
        "colab": {
          "base_uri": "https://localhost:8080/"
        },
        "id": "IZRkeQjrkIeH",
        "outputId": "c3637747-e392-4d98-a770-762f81072e0d"
      },
      "execution_count": null,
      "outputs": [
        {
          "output_type": "stream",
          "name": "stdout",
          "text": [
            "7.5\n"
          ]
        }
      ]
    },
    {
      "cell_type": "code",
      "source": [
        "#ex 9. Crie uma função que conte quantas vogais existem em uma string fornecida.\n",
        "\n",
        "def contar_vogais(string):\n",
        "    vogais = \"aeiouAEIOU\"\n",
        "    contador = 0\n",
        "    for char in string:\n",
        "        if char in vogais:\n",
        "            contador += 1\n",
        "    return contador\n",
        "print(contar_vogais(\"Olá, mundo!\"))"
      ],
      "metadata": {
        "colab": {
          "base_uri": "https://localhost:8080/"
        },
        "id": "IYTtRLdfk-Yp",
        "outputId": "b45f0e5f-66dd-402f-a845-3d3f14f2d21d"
      },
      "execution_count": null,
      "outputs": [
        {
          "output_type": "stream",
          "name": "stdout",
          "text": [
            "3\n"
          ]
        }
      ]
    },
    {
      "cell_type": "code",
      "source": [
        "#ex 10. Crie uma função que receba uma lista de números e retorne elas\n",
        "lista= [1, 2, 3, 4, 5]\n",
        "def li (lista):\n",
        "    return lista[::1]\n",
        "print(li(lista))"
      ],
      "metadata": {
        "colab": {
          "base_uri": "https://localhost:8080/"
        },
        "id": "nc0EcX0rlhO9",
        "outputId": "f14b6dc4-8b88-448d-b15e-798959714243"
      },
      "execution_count": null,
      "outputs": [
        {
          "output_type": "stream",
          "name": "stdout",
          "text": [
            "[1, 2, 3, 4, 5]\n"
          ]
        }
      ]
    }
  ]
}