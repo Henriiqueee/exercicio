{
  "nbformat": 4,
  "nbformat_minor": 0,
  "metadata": {
    "colab": {
      "provenance": []
    },
    "kernelspec": {
      "name": "python3",
      "display_name": "Python 3"
    },
    "language_info": {
      "name": "python"
    }
  },
  "cells": [
    {
      "cell_type": "code",
      "execution_count": null,
      "metadata": {
        "colab": {
          "base_uri": "https://localhost:8080/"
        },
        "id": "Oelc3zPw39HR",
        "outputId": "920d53d6-89c1-41ac-ca98-99020601aeab"
      },
      "outputs": [
        {
          "output_type": "stream",
          "name": "stdout",
          "text": [
            "informe a nota do aluno para conversão: 61\n",
            "D\n"
          ]
        }
      ],
      "source": [
        "1#Escreva um programa que leia a nota de um aluno (de 0 a 100) e classifique-a como:\n",
        "\n",
        "nota = float(input(\"informe a nota do aluno para conversão: \"))\n",
        "\n",
        "if nota >= 90:\n",
        "  print(\"A\")\n",
        "\n",
        "elif nota >= 80 and nota <= 90:\n",
        " print(\"B\")\n",
        "\n",
        "elif nota >= 70 and nota <= 80:\n",
        "  print(\"C\")\n",
        "\n",
        "elif nota >= 60 and nota <= 70:\n",
        "  print(\"D\")\n",
        "\n",
        "else:\n",
        "  print(\"F\")\n",
        "\n"
      ]
    },
    {
      "cell_type": "code",
      "source": [
        "2#Crie um programa que leia a idade de uma pessoa e imprima:\n",
        "\n",
        "idade = float(input(\"leitura de idade:\"))\n",
        "\n",
        "if idade <= 12:\n",
        "  print(\"Criança\")\n",
        "\n",
        "elif idade > 12 and idade <= 17:\n",
        "  print(\"Adolescente\")\n",
        "\n",
        "elif idade >= 18 and idade <= 64:\n",
        "  print(\"Adulto\")\n",
        "\n",
        "else:\n",
        "  print(\"Idoso\")\n"
      ],
      "metadata": {
        "colab": {
          "base_uri": "https://localhost:8080/"
        },
        "id": "fjV9C7815S1r",
        "outputId": "394b427c-76d5-4f77-e8b5-b8ae639231ea"
      },
      "execution_count": null,
      "outputs": [
        {
          "output_type": "stream",
          "name": "stdout",
          "text": [
            "leitura de idade:13\n",
            "Adolescente\n"
          ]
        }
      ]
    },
    {
      "cell_type": "code",
      "source": [
        "3#Desenvolva um programa que calcule o IMC (Índice de Massa Corporal) de uma pessoa e classifique-a como:\n",
        "\n",
        "\n",
        "peso = float(input(\"Informe o peso \"))\n",
        "altura = float(input(\"Informe a altura \"))\n",
        "imc = (peso) / (altura)**2\n",
        "\n",
        "if imc < 18.5:\n",
        "  print(\"Abaixo do peso\")\n",
        "\n",
        "elif imc >= 18.5 and imc < 25:\n",
        "  print(\"Peso normal \")\n",
        "\n",
        "elif imc >= 25 and imc < 30:\n",
        "  print(\"Sobrepeso\")\n",
        "\n",
        "else:\n",
        "  print(\"Obesidade\")"
      ],
      "metadata": {
        "colab": {
          "base_uri": "https://localhost:8080/"
        },
        "id": "3rnGM9Mw6hVp",
        "outputId": "7b561540-1d07-46d6-cb52-7e7146a35d01"
      },
      "execution_count": null,
      "outputs": [
        {
          "output_type": "stream",
          "name": "stdout",
          "text": [
            "Informe o peso 65\n",
            "Informe a altura 1.78\n",
            "Peso normal \n"
          ]
        }
      ]
    },
    {
      "cell_type": "code",
      "source": [
        "4#Crie um programa que calcule o bônus de um funcionário com base no tempo de serviço:\n",
        "\n",
        "salario= float(input(\"Digite o valor do salario: \"))\n",
        "tempo = float(input(\"Digite o tempo: \"))\n",
        "\n",
        "if salario <= 1:\n",
        "  print(\"Sem bônus para menos de 1 ano\")\n",
        "\n",
        "elif tempo >=1 and tempo <= 3:\n",
        "  total = salario * 0.05\n",
        "  print(\"bônus de 5%:\", total)\n",
        "\n",
        "elif tempo >=3 and tempo >= 5:\n",
        "  total = salario * 0.1\n",
        "  print(\"bônus de 10%:\", total)\n",
        "\n",
        "elif tempo >=5:\n",
        "  total = salario * 0.15\n",
        "  print(\"bônus de 15%:\", total)\n",
        "\n",
        "else:\n",
        "  print(\"não aplique bônus.\")"
      ],
      "metadata": {
        "colab": {
          "base_uri": "https://localhost:8080/"
        },
        "id": "bN5BbSgs_5py",
        "outputId": "2a32ca85-4995-4c1e-bd38-0ecca656b601"
      },
      "execution_count": null,
      "outputs": [
        {
          "output_type": "stream",
          "name": "stdout",
          "text": [
            "Digite o valor do salario: 2000\n",
            "Digite o tempo: 1\n",
            "bônus de 5%: 100.0\n"
          ]
        }
      ]
    },
    {
      "cell_type": "code",
      "source": [
        "5#Escreva um programa que leia a velocidade de um veículo e a classifique em:\n",
        "\n",
        "Velocidade = float(input(\"Digite a velocidade do veículo: \"))\n",
        "\n",
        "if Velocidade <= 40:\n",
        "  print(\"Baixa velocidade\")\n",
        "\n",
        "elif Velocidade >= 41 and Velocidade <= 80:\n",
        "  print(\"Velocidade moderada\")\n",
        "\n",
        "elif Velocidade >= 81 and Velocidade <= 120:\n",
        "  print(\"Velocidade alta\")\n",
        "\n",
        "else:\n",
        "  print(\"Velocidade muito alta\")\n",
        "\n"
      ],
      "metadata": {
        "colab": {
          "base_uri": "https://localhost:8080/"
        },
        "id": "7jtBgPcaGLr-",
        "outputId": "e5646f08-5206-4782-87f9-7a454c156726"
      },
      "execution_count": null,
      "outputs": [
        {
          "output_type": "stream",
          "name": "stdout",
          "text": [
            "Digite a velocidade do veículo: 33\n",
            "Baixa velocidade\n"
          ]
        }
      ]
    }
  ]
}