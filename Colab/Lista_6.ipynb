{
  "nbformat": 4,
  "nbformat_minor": 0,
  "metadata": {
    "colab": {
      "provenance": []
    },
    "kernelspec": {
      "name": "python3",
      "display_name": "Python 3"
    },
    "language_info": {
      "name": "python"
    }
  },
  "cells": [
    {
      "cell_type": "code",
      "execution_count": null,
      "metadata": {
        "colab": {
          "base_uri": "https://localhost:8080/"
        },
        "id": "ReqFDNpteGcX",
        "outputId": "752592a8-80f7-4418-e5ea-ea3278af4bc3"
      },
      "outputs": [
        {
          "output_type": "stream",
          "name": "stdout",
          "text": [
            "13\n"
          ]
        }
      ],
      "source": [
        "num1=4\n",
        "num2=9\n",
        "soma=num1+num2\n",
        "print(soma)\n"
      ]
    },
    {
      "cell_type": "code",
      "source": [
        "num1=4\n",
        "num2=9\n",
        "subtração=num1-num2\n",
        "print(subtração)\n"
      ],
      "metadata": {
        "colab": {
          "base_uri": "https://localhost:8080/"
        },
        "id": "ZlrDz997fLNv",
        "outputId": "08c24598-61ea-4c3b-a7b7-0330da8c2e01"
      },
      "execution_count": null,
      "outputs": [
        {
          "output_type": "stream",
          "name": "stdout",
          "text": [
            "-5\n"
          ]
        }
      ]
    },
    {
      "cell_type": "code",
      "source": [
        "num1=4\n",
        "num2=9\n",
        "multiplicação=num1*num2\n",
        "print(multiplicação)\n"
      ],
      "metadata": {
        "colab": {
          "base_uri": "https://localhost:8080/"
        },
        "id": "YiocJfx6fne_",
        "outputId": "ad775937-6869-453d-95cc-1f968c87f6c1"
      },
      "execution_count": null,
      "outputs": [
        {
          "output_type": "stream",
          "name": "stdout",
          "text": [
            "36\n"
          ]
        }
      ]
    },
    {
      "cell_type": "code",
      "source": [
        "num1=4\n",
        "num2=9\n",
        "divisão=num1/num2\n",
        "print(divisão)\n"
      ],
      "metadata": {
        "colab": {
          "base_uri": "https://localhost:8080/"
        },
        "id": "MGJo-cHPfys-",
        "outputId": "47f58321-2c90-41d5-e657-cdf0a074aa5c"
      },
      "execution_count": null,
      "outputs": [
        {
          "output_type": "stream",
          "name": "stdout",
          "text": [
            "0.4444444444444444\n"
          ]
        }
      ]
    },
    {
      "cell_type": "code",
      "source": [
        "num1=4\n",
        "num2=9\n",
        "resto_divisão=num1%num2\n",
        "print(resto_divisão)\n"
      ],
      "metadata": {
        "colab": {
          "base_uri": "https://localhost:8080/"
        },
        "id": "OFCAT0y7hQ8q",
        "outputId": "4ecdf7f6-5c46-474d-8771-9524d3de59b7"
      },
      "execution_count": null,
      "outputs": [
        {
          "output_type": "stream",
          "name": "stdout",
          "text": [
            "4\n"
          ]
        }
      ]
    },
    {
      "cell_type": "code",
      "source": [
        "num1=298\n",
        "num2=111\n",
        "soma=num1+num2\n",
        "subtração=num1-num2\n",
        "print(soma,subtração)\n"
      ],
      "metadata": {
        "colab": {
          "base_uri": "https://localhost:8080/"
        },
        "id": "Zy8_anqZiPEm",
        "outputId": "eb0c19e6-d177-4bce-e5b2-a2f5e30d8329"
      },
      "execution_count": null,
      "outputs": [
        {
          "output_type": "stream",
          "name": "stdout",
          "text": [
            "409 187\n"
          ]
        }
      ]
    },
    {
      "cell_type": "code",
      "source": [
        "num1=8\n",
        "num2=2\n",
        "produto=num1*num2\n",
        "quociente=num1/num2\n",
        "resto_divisão=num1%num2\n",
        "print(produto,quociente,resto_divisão)\n"
      ],
      "metadata": {
        "colab": {
          "base_uri": "https://localhost:8080/"
        },
        "id": "fhyS26JmkBW1",
        "outputId": "2488f7e3-d401-4d32-8230-1334593585ec"
      },
      "execution_count": null,
      "outputs": [
        {
          "output_type": "stream",
          "name": "stdout",
          "text": [
            "16 4.0 0\n"
          ]
        }
      ]
    },
    {
      "cell_type": "code",
      "source": [
        "num=int(input(\"Digite um número:\"))\n",
        "if num%2==0:\n",
        "    print(\"O número é par\")\n",
        "else:\n",
        "    print(\"O número é ímpar\")"
      ],
      "metadata": {
        "colab": {
          "base_uri": "https://localhost:8080/"
        },
        "id": "0aP9cKEwkDGp",
        "outputId": "b86875ae-935d-483a-e0f3-be6bb782c4a0"
      },
      "execution_count": null,
      "outputs": [
        {
          "output_type": "stream",
          "name": "stdout",
          "text": [
            "Digite um número:2\n",
            "O número é par\n"
          ]
        }
      ]
    },
    {
      "cell_type": "code",
      "source": [
        "num1=7\n",
        "num2=4\n",
        "potencia=num1**num2\n",
        "print(potencia)"
      ],
      "metadata": {
        "colab": {
          "base_uri": "https://localhost:8080/"
        },
        "id": "azq6niA1n33b",
        "outputId": "1f8697e2-a4fa-4c64-aee6-6c1374e8e910"
      },
      "execution_count": null,
      "outputs": [
        {
          "output_type": "stream",
          "name": "stdout",
          "text": [
            "2401\n"
          ]
        }
      ]
    },
    {
      "cell_type": "code",
      "source": [
        "num1=5\n",
        "num2=6\n",
        "num3=2\n",
        "media = (num1+num2+num3)/3\n",
        "print(media)"
      ],
      "metadata": {
        "colab": {
          "base_uri": "https://localhost:8080/"
        },
        "id": "pRfNOUkuoMzf",
        "outputId": "ee0eacb2-cfd4-4859-95fe-4691b93d38b8"
      },
      "execution_count": null,
      "outputs": [
        {
          "output_type": "stream",
          "name": "stdout",
          "text": [
            "4.333333333333333\n"
          ]
        }
      ]
    },
    {
      "cell_type": "code",
      "source": [
        "num1=8\n",
        "num2=5\n",
        "adicionar= (num1+num2)\n",
        "print(adicionar)"
      ],
      "metadata": {
        "colab": {
          "base_uri": "https://localhost:8080/"
        },
        "id": "an68y5nBopdx",
        "outputId": "db9be535-b088-45d0-d68e-b3da2f849b4d"
      },
      "execution_count": null,
      "outputs": [
        {
          "output_type": "stream",
          "name": "stdout",
          "text": [
            "13\n"
          ]
        }
      ]
    },
    {
      "cell_type": "code",
      "source": [
        "num1=13\n",
        "num1*=2\n",
        "print(num1)"
      ],
      "metadata": {
        "colab": {
          "base_uri": "https://localhost:8080/"
        },
        "id": "pmDoOqGspeg_",
        "outputId": "02a0bc12-ad8c-49cc-d39e-7f5362e0890a"
      },
      "execution_count": null,
      "outputs": [
        {
          "output_type": "stream",
          "name": "stdout",
          "text": [
            "26\n"
          ]
        }
      ]
    },
    {
      "cell_type": "code",
      "source": [
        "num1=26\n",
        "num1-=3\n",
        "print(num1)"
      ],
      "metadata": {
        "colab": {
          "base_uri": "https://localhost:8080/"
        },
        "id": "1tElzdisqp-M",
        "outputId": "f94e893e-d500-4481-b006-ef57e2b0270a"
      },
      "execution_count": null,
      "outputs": [
        {
          "output_type": "stream",
          "name": "stdout",
          "text": [
            "23\n"
          ]
        }
      ]
    },
    {
      "cell_type": "code",
      "source": [
        "num1=23\n",
        "num1/=2\n",
        "print(num1)"
      ],
      "metadata": {
        "colab": {
          "base_uri": "https://localhost:8080/"
        },
        "id": "YvZBrFKBqz-n",
        "outputId": "62ac1960-6467-41f2-dc21-6bfb10e3825d"
      },
      "execution_count": null,
      "outputs": [
        {
          "output_type": "stream",
          "name": "stdout",
          "text": [
            "11.5\n"
          ]
        }
      ]
    },
    {
      "cell_type": "code",
      "source": [
        "num1=11.5\n",
        "num1%=3\n",
        "print(num1)"
      ],
      "metadata": {
        "colab": {
          "base_uri": "https://localhost:8080/"
        },
        "id": "jwXfGqk6pI13",
        "outputId": "409e98bf-60f6-4f23-ad4d-ec5307b1fe25"
      },
      "execution_count": null,
      "outputs": [
        {
          "output_type": "stream",
          "name": "stdout",
          "text": [
            "2.5\n"
          ]
        }
      ]
    },
    {
      "cell_type": "code",
      "source": [
        "num1=6\n",
        "num2=3\n",
        "maior=num1>num2\n",
        "print(maior)"
      ],
      "metadata": {
        "colab": {
          "base_uri": "https://localhost:8080/"
        },
        "id": "gSCK-ZCop67o",
        "outputId": "1318cfd2-f8ac-423e-dc0b-405ac52c1e5c"
      },
      "execution_count": null,
      "outputs": [
        {
          "output_type": "stream",
          "name": "stdout",
          "text": [
            "True\n"
          ]
        }
      ]
    },
    {
      "cell_type": "code",
      "source": [
        "num1=6\n",
        "num2=3\n",
        "xresultado= num1==num2\n",
        "print(xresultado)"
      ],
      "metadata": {
        "colab": {
          "base_uri": "https://localhost:8080/"
        },
        "id": "vBRnN1r4qQDa",
        "outputId": "c54b6965-14f2-4ae2-8ab8-96d252174727"
      },
      "execution_count": null,
      "outputs": [
        {
          "output_type": "stream",
          "name": "stdout",
          "text": [
            "False\n"
          ]
        }
      ]
    },
    {
      "cell_type": "code",
      "source": [
        "num1=6\n",
        "num2=3\n",
        "menor=num1<num2\n",
        "print(menor)"
      ],
      "metadata": {
        "colab": {
          "base_uri": "https://localhost:8080/"
        },
        "id": "I3D-O3xFrBuY",
        "outputId": "ebe64740-8df6-45e4-ca89-c66c8647fc21"
      },
      "execution_count": null,
      "outputs": [
        {
          "output_type": "stream",
          "name": "stdout",
          "text": [
            "False\n"
          ]
        }
      ]
    },
    {
      "cell_type": "code",
      "source": [
        "Henrique= 19\n",
        "Guilherme= 22\n",
        "xresultado= Henrique>=18 and Guilherme>=18\n",
        "print(xresultado)"
      ],
      "metadata": {
        "colab": {
          "base_uri": "https://localhost:8080/"
        },
        "id": "J0mQ4qjzrbKV",
        "outputId": "f56eb740-63fd-44f7-a4b8-ac2881abe4e0"
      },
      "execution_count": null,
      "outputs": [
        {
          "output_type": "stream",
          "name": "stdout",
          "text": [
            "True\n"
          ]
        }
      ]
    },
    {
      "cell_type": "code",
      "source": [
        "# Solicitar ao usuário uma palavra\n",
        "palavra = input(\"Digite uma palavra: \")\n",
        "\n",
        "# Verificar se a letra 'a' está presente na palavra\n",
        "if 'a' in palavra:\n",
        "    print(\"A letra 'a' está presente na palavra.\")\n",
        "else:\n",
        "    print(\"A letra 'a' não está presente na palavra.\")"
      ],
      "metadata": {
        "colab": {
          "base_uri": "https://localhost:8080/"
        },
        "id": "JCELTJvUsxqj",
        "outputId": "00383a2e-f73b-413b-84b3-b7538e8685d3"
      },
      "execution_count": null,
      "outputs": [
        {
          "output_type": "stream",
          "name": "stdout",
          "text": [
            "Digite uma palavra: Senai\n",
            "A letra 'a' está presente na palavra.\n"
          ]
        }
      ]
    },
    {
      "cell_type": "code",
      "source": [
        "lista = [\"maçã\", \"banana\", \"laranja\", \"uva\", \"kiwi\", \"pera\"]\n",
        "\n",
        "# Palavra a ser verificada\n",
        "palavra1 = input(\"Digite uma palavra para verificar se existe na lista: \")\n",
        "palavra2 = input(\"Digite outra palavra para verificar se não existe na lista: \")\n",
        "\n",
        "# Verificar se a palavra existe na lista\n",
        "if palavra1 in lista:\n",
        "    print(f\"A palavra '{palavra1}' está na lista.\")\n",
        "else:\n",
        "    print(f\"A palavra '{palavra1}' não está na lista.\")\n",
        "\n",
        "# Verificar se a segunda palavra não existe na lista\n",
        "if palavra2 not in lista:\n",
        "    print(f\"A palavra '{palavra2}' não está na lista.\")\n",
        "else:\n",
        "    print(f\"A palavra '{palavra2}' está na lista.\")"
      ],
      "metadata": {
        "colab": {
          "base_uri": "https://localhost:8080/"
        },
        "id": "mKxXgWWNt6qk",
        "outputId": "e5b18a2b-dc20-4514-8cd8-8d08a0e81c05"
      },
      "execution_count": null,
      "outputs": [
        {
          "output_type": "stream",
          "name": "stdout",
          "text": [
            "Digite uma palavra para verificar se existe na lista: morango\n",
            "Digite outra palavra para verificar se não existe na lista: uva\n",
            "A palavra 'morango' não está na lista.\n",
            "A palavra 'uva' está na lista.\n"
          ]
        }
      ]
    }
  ]
}