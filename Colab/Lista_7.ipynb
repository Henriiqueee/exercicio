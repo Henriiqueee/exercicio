{
  "nbformat": 4,
  "nbformat_minor": 0,
  "metadata": {
    "colab": {
      "provenance": []
    },
    "kernelspec": {
      "name": "python3",
      "display_name": "Python 3"
    },
    "language_info": {
      "name": "python"
    }
  },
  "cells": [
    {
      "cell_type": "code",
      "execution_count": null,
      "metadata": {
        "colab": {
          "base_uri": "https://localhost:8080/"
        },
        "id": "mKgjQV12xNXn",
        "outputId": "11e1f717-b4ce-4e73-bdf0-70ccae3a8c45"
      },
      "outputs": [
        {
          "output_type": "stream",
          "name": "stdout",
          "text": [
            "Digite o primeiro número: 1\n",
            "Digite o segundo número: 7\n",
            "Os números são diferentes\n"
          ]
        }
      ],
      "source": [
        "1#Verificação de números diferentes\n",
        "num1= int(input(\"Digite o primeiro número: \"))\n",
        "num2= int(input(\"Digite o segundo número: \"))\n",
        "if num1 != num2:\n",
        "  print(\"Os números são diferentes\")\n",
        "else:\n",
        "  print(\"Os números são iguais\")"
      ]
    },
    {
      "cell_type": "code",
      "source": [
        "2#Verificação de maioridade\n",
        "idade= int(input(\"Digite a sua idade: \"))\n",
        "if idade >=18:\n",
        "  print(\"Você é maior de idade\")\n",
        "else:\n",
        "  print(\"Você é menor de idade\")"
      ],
      "metadata": {
        "colab": {
          "base_uri": "https://localhost:8080/"
        },
        "id": "8FdE6BYEx4rq",
        "outputId": "975a4f00-bca7-4096-a59f-c96005e4dc2a"
      },
      "execution_count": null,
      "outputs": [
        {
          "output_type": "stream",
          "name": "stdout",
          "text": [
            "Digite a sua idade: 12\n",
            "Você é menor de idade\n"
          ]
        }
      ]
    },
    {
      "cell_type": "code",
      "source": [
        "3#Autorização de entrada em um evento\n",
        "convite= str(input(\"Digite se ele tem convite: \"))\n",
        "if convite == \"sim\":\n",
        "  print(\"Entrada permitida\")\n",
        "else:\n",
        "  print(\"Entrada permitida\")"
      ],
      "metadata": {
        "colab": {
          "base_uri": "https://localhost:8080/"
        },
        "id": "-KzkSOTfyGzK",
        "outputId": "40193ac2-7351-423b-9ad1-5f6045cda76b"
      },
      "execution_count": null,
      "outputs": [
        {
          "output_type": "stream",
          "name": "stdout",
          "text": [
            "Digite se ele tem convite: sim\n",
            "Entrada permitida\n"
          ]
        }
      ]
    },
    {
      "cell_type": "code",
      "source": [
        "4#Verificação de nome em lista\n",
        "lista= str(input(\"Digite seu nome está na lista Carlos: \"))\n",
        "if lista == \"sim\":\n",
        "  print(\"Você está na lista\")\n",
        "else:\n",
        "  print(\"nome não encotrado\")\n"
      ],
      "metadata": {
        "colab": {
          "base_uri": "https://localhost:8080/"
        },
        "id": "zArE3qYMz7YV",
        "outputId": "d2b7d2cc-ed39-41f2-eb9c-f7682c34eba6"
      },
      "execution_count": null,
      "outputs": [
        {
          "output_type": "stream",
          "name": "stdout",
          "text": [
            "Digite seu nome está na lista Carlos: nao \n",
            "nome não encotrado\n"
          ]
        }
      ]
    },
    {
      "cell_type": "code",
      "source": [
        "5#Cálculo de gorjeta\n",
        "maior= int(input(\"Digite valor da gorjeta :\"))\n",
        "if  maior>= 100:\n",
        "  print(\"gorjeta de 10%\")\n",
        "else:\n",
        "  print(\"gorjeta de 5%\")"
      ],
      "metadata": {
        "colab": {
          "base_uri": "https://localhost:8080/"
        },
        "id": "fOnrQ2o11DaR",
        "outputId": "12a1c49b-6a80-4ba8-93d5-259bc37a4f82"
      },
      "execution_count": null,
      "outputs": [
        {
          "output_type": "stream",
          "name": "stdout",
          "text": [
            "Digite valor da gorjeta :5\n",
            "gorjeta de 5%\n"
          ]
        }
      ]
    },
    {
      "cell_type": "code",
      "source": [
        "6#Acesso ao Wi-Fi\n",
        "senha= int(input(\"Digite a senha:\"))\n",
        "if senha == 1234:\n",
        "  print(\"Conectado\")\n",
        "else:\n",
        "  print(\"Senha incorreta\")"
      ],
      "metadata": {
        "colab": {
          "base_uri": "https://localhost:8080/"
        },
        "id": "FjVitIJf1OWI",
        "outputId": "965bbb5f-7106-42b2-fa8b-bc1ef4c99925"
      },
      "execution_count": null,
      "outputs": [
        {
          "output_type": "stream",
          "name": "stdout",
          "text": [
            "Digite a senha:1234\n",
            "Conectado\n"
          ]
        }
      ]
    },
    {
      "cell_type": "code",
      "source": [
        "7#Verificação de turno\n",
        "Verificação= str(input(\"Digite M se for manhã e T se for de tarde:\"))\n",
        "if Verificação == \"M\":\n",
        "  print(\"Manhã\")\n",
        "elif Verificação == \"T\":\n",
        "  print(\"Boa Tarde\")\n"
      ],
      "metadata": {
        "colab": {
          "base_uri": "https://localhost:8080/"
        },
        "id": "eu_Gdc-51y1z",
        "outputId": "084b7f06-e443-4e48-d83f-94a516f65e56"
      },
      "execution_count": null,
      "outputs": [
        {
          "output_type": "stream",
          "name": "stdout",
          "text": [
            "Digite M se for manhã e T se for de tarde:M\n",
            "Manhã\n"
          ]
        }
      ]
    },
    {
      "cell_type": "code",
      "source": [
        "8#Verificação de múltiplo de 5\n",
        "num= int(input(\"Digite um número: \"))\n",
        "if num % 5 == 0:\n",
        "  print(\"O número é múltiplo de 5\")\n",
        "else:\n",
        "  print(\"O número não é múltiplo de 5\")"
      ],
      "metadata": {
        "colab": {
          "base_uri": "https://localhost:8080/"
        },
        "id": "cbiYZhuC4F6K",
        "outputId": "fb82edd1-1b60-4cad-984e-ce540edc14e0"
      },
      "execution_count": null,
      "outputs": [
        {
          "output_type": "stream",
          "name": "stdout",
          "text": [
            "Digite um número: 6\n",
            "O número não é múltiplo de 5\n"
          ]
        }
      ]
    },
    {
      "cell_type": "code",
      "source": [
        "9#Desconto em compras por valor mínimo\n",
        "valorConsumido= float(input(\"Digite o valor da compra: \"))\n",
        "if valorConsumido >= 150 :\n",
        "  print(\"aplique um desconto de R$20,00 valor fica de:\",valorConsumido -20)\n",
        "else:\n",
        "  print(\"não aplique desconto.\")\n"
      ],
      "metadata": {
        "colab": {
          "base_uri": "https://localhost:8080/"
        },
        "id": "XJZkZiCo4Ltk",
        "outputId": "b6a2ca24-9544-41a4-d340-89f9cc862ea2"
      },
      "execution_count": null,
      "outputs": [
        {
          "output_type": "stream",
          "name": "stdout",
          "text": [
            "Digite o valor da compra: 170\n",
            "aplique um desconto de R$20,00 valor fica de: 150.0\n"
          ]
        }
      ]
    }
  ]
}