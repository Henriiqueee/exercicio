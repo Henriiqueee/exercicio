{
  "nbformat": 4,
  "nbformat_minor": 0,
  "metadata": {
    "colab": {
      "provenance": []
    },
    "kernelspec": {
      "name": "python3",
      "display_name": "Python 3"
    },
    "language_info": {
      "name": "python"
    }
  },
  "cells": [
    {
      "cell_type": "code",
      "execution_count": null,
      "metadata": {
        "colab": {
          "base_uri": "https://localhost:8080/"
        },
        "id": "waNtWbQgqii8",
        "outputId": "883d2efd-64d9-45b4-e395-6b7f8b6fecce"
      },
      "outputs": [
        {
          "output_type": "stream",
          "name": "stdout",
          "text": [
            "295\n"
          ]
        }
      ],
      "source": [
        "#1.soma de todos os elementos.\n",
        "\n",
        "num= [10, 20, 30, 40, 55, 13, 16, 11, 23, 77]\n",
        "\n",
        "soma= sum(num)\n",
        "print(soma)"
      ]
    },
    {
      "cell_type": "code",
      "source": [
        "#2. Adicionar um número ao final de uma lista\n",
        "num = [1, 2, 5, 7, 8]\n",
        "num.append(10)\n",
        "print(num)"
      ],
      "metadata": {
        "colab": {
          "base_uri": "https://localhost:8080/"
        },
        "id": "HadwE1lsrX4D",
        "outputId": "7bc18cfa-e7e8-4ed2-892c-edf7ff3bde15"
      },
      "execution_count": null,
      "outputs": [
        {
          "output_type": "stream",
          "name": "stdout",
          "text": [
            "[1, 2, 5, 7, 8, 10]\n"
          ]
        }
      ]
    },
    {
      "cell_type": "code",
      "source": [
        "#3. Remover o último item\n",
        "\n",
        "num = [1, 2, 5, 7, 8]\n",
        "num.remove(8)\n",
        "print(num)"
      ],
      "metadata": {
        "colab": {
          "base_uri": "https://localhost:8080/"
        },
        "id": "5ELdiooIrmmg",
        "outputId": "30290bdb-c85a-40ef-b05d-abadf5b4b657"
      },
      "execution_count": null,
      "outputs": [
        {
          "output_type": "stream",
          "name": "stdout",
          "text": [
            "[1, 2, 5, 7]\n"
          ]
        }
      ]
    },
    {
      "cell_type": "code",
      "source": [
        "#4. Verificar se um número específico está presente na lista.\n",
        "\n",
        "num = [1, 2, 5, 7, 8]\n",
        "print(8 in num)"
      ],
      "metadata": {
        "colab": {
          "base_uri": "https://localhost:8080/"
        },
        "id": "Bblzk_ERr7kG",
        "outputId": "3888566a-19fd-405b-d768-40dcf27a430b"
      },
      "execution_count": null,
      "outputs": [
        {
          "output_type": "stream",
          "name": "stdout",
          "text": [
            "True\n"
          ]
        }
      ]
    },
    {
      "cell_type": "code",
      "source": [
        "#5. imprimir apenas os números pares.\n",
        "\n",
        "num = [1, 2, 5, 6, 7, 10, 88]\n",
        "\n",
        "for i in num:\n",
        "  if i % 2 == 0:\n",
        "    print(i)"
      ],
      "metadata": {
        "colab": {
          "base_uri": "https://localhost:8080/"
        },
        "id": "6fcjQE5Ds2yZ",
        "outputId": "4db79b35-449b-4b21-9a18-b645ab93d28f"
      },
      "execution_count": null,
      "outputs": [
        {
          "output_type": "stream",
          "name": "stdout",
          "text": [
            "2\n",
            "6\n",
            "10\n",
            "88\n"
          ]
        }
      ]
    },
    {
      "cell_type": "code",
      "source": [
        "#6. imprimir cada nome separadamente.\n",
        "\n",
        "nom= [\"Guilherme\", \"Oliveira\", \"Souza\", \"Silva\", \"Santos\"]\n",
        "print(nom[0])\n",
        "print(nom[1])\n",
        "print(nom[2])\n",
        "print(nom[3])\n",
        "print(nom[4])"
      ],
      "metadata": {
        "colab": {
          "base_uri": "https://localhost:8080/"
        },
        "id": "CEHnCh6NuwvZ",
        "outputId": "7c9fb235-523e-4a2b-9693-9f3b218ca129"
      },
      "execution_count": null,
      "outputs": [
        {
          "output_type": "stream",
          "name": "stdout",
          "text": [
            "Guilherme\n",
            "Oliveira\n",
            "Souza\n",
            "Silva\n",
            "Santos\n"
          ]
        }
      ]
    },
    {
      "cell_type": "code",
      "source": [
        "#7. verificar quantas vezes uma palavra específica aparece.\n",
        "\n",
        "nome =  [\"cachorro\", \"gato\", \"rato\", \"passaro\", \"passaro\"]\n",
        "contador = 0\n",
        "for nome in nome:\n",
        "  if nome == \"passaro\":\n",
        "    contador += 1\n",
        "print(contador)"
      ],
      "metadata": {
        "colab": {
          "base_uri": "https://localhost:8080/"
        },
        "id": "BB_RvkktvKxV",
        "outputId": "26c15d8d-e855-4983-97f2-7aa205865e68"
      },
      "execution_count": null,
      "outputs": [
        {
          "output_type": "stream",
          "name": "stdout",
          "text": [
            "2\n"
          ]
        }
      ]
    },
    {
      "cell_type": "code",
      "source": [
        "#8. imprimir o maior número.\n",
        "\n",
        "num = [1, 2, 5, 7, 88]\n",
        "print(max(num))"
      ],
      "metadata": {
        "colab": {
          "base_uri": "https://localhost:8080/"
        },
        "id": "3rjVv3nivUkE",
        "outputId": "fa8a2d12-9094-4f1a-efe6-a96885ebb095"
      },
      "execution_count": null,
      "outputs": [
        {
          "output_type": "stream",
          "name": "stdout",
          "text": [
            "88\n"
          ]
        }
      ]
    },
    {
      "cell_type": "code",
      "source": [
        "#9. limpar todos os elementos dela.\n",
        "\n",
        "num = [1, 2, 5, 7, 88]\n",
        "num.clear ()\n",
        "print(num)"
      ],
      "metadata": {
        "colab": {
          "base_uri": "https://localhost:8080/"
        },
        "id": "Hfl9muoFwFke",
        "outputId": "700b5950-d8bd-415d-d917-6e14ea18b5c7"
      },
      "execution_count": null,
      "outputs": [
        {
          "output_type": "stream",
          "name": "stdout",
          "text": [
            "[]\n"
          ]
        }
      ]
    },
    {
      "cell_type": "code",
      "source": [
        "#10. lista de números em ordem crescente e decrescente.\n",
        "\n",
        "num = [13, 27, 5, 7, 1, 9, 88]\n",
        "num.sort()\n",
        "print(num)\n",
        "num.sort(reverse=True)\n",
        "print(num)"
      ],
      "metadata": {
        "colab": {
          "base_uri": "https://localhost:8080/"
        },
        "id": "X0sZ_p3OwZY0",
        "outputId": "24140465-3cca-468e-ee67-8ef70e68dfbd"
      },
      "execution_count": null,
      "outputs": [
        {
          "output_type": "stream",
          "name": "stdout",
          "text": [
            "[1, 5, 7, 9, 13, 27, 88]\n",
            "[88, 27, 13, 9, 7, 5, 1]\n"
          ]
        }
      ]
    },
    {
      "cell_type": "code",
      "source": [
        "#11. substituir o segundo elemento por um novo valor.\n",
        "\n",
        "num = [1, 2, 5, 7, 88]\n",
        "num[1] = 10\n",
        "print(num)"
      ],
      "metadata": {
        "colab": {
          "base_uri": "https://localhost:8080/"
        },
        "id": "vYJMEUu9xrJE",
        "outputId": "a139f025-dbbd-4d5f-b22d-d4fe8d0e6950"
      },
      "execution_count": null,
      "outputs": [
        {
          "output_type": "stream",
          "name": "stdout",
          "text": [
            "[1, 10, 5, 7, 88]\n"
          ]
        }
      ]
    },
    {
      "cell_type": "code",
      "source": [
        "#12. Inverter a ordem dos elementos em uma lista.\n",
        "\n",
        "num = [1, 2, 5, 7, 88]\n",
        "num.reverse()\n",
        "print(num)"
      ],
      "metadata": {
        "colab": {
          "base_uri": "https://localhost:8080/"
        },
        "id": "vs_puhOTx77t",
        "outputId": "f0bea73b-d389-427f-9bfc-8ea749fde720"
      },
      "execution_count": null,
      "outputs": [
        {
          "output_type": "stream",
          "name": "stdout",
          "text": [
            "[88, 7, 5, 2, 1]\n"
          ]
        }
      ]
    },
    {
      "cell_type": "code",
      "source": [
        "#13. imprimir apenas os números ímpares.\n",
        "\n",
        "num = [1, 33, 5, 7, 3, 88]\n",
        "\n",
        "for i in num:\n",
        "  if i % 2 != 0:\n",
        "    print(i)"
      ],
      "metadata": {
        "colab": {
          "base_uri": "https://localhost:8080/"
        },
        "id": "HDp0Cc9tyQhr",
        "outputId": "cafe0b9e-96a9-424c-be98-bec582147a03"
      },
      "execution_count": null,
      "outputs": [
        {
          "output_type": "stream",
          "name": "stdout",
          "text": [
            "1\n",
            "33\n",
            "5\n",
            "7\n",
            "3\n"
          ]
        }
      ]
    },
    {
      "cell_type": "code",
      "source": [
        "#14. Concatenar duas listas e imprimir o resultado.\n",
        "\n",
        "lista1 = [1, 4, 6, 8 ,10, 13, 17]\n",
        "lista2 = [1, 4, 6, 8 ,10]\n",
        "lista3 = lista1 + lista2\n",
        "print(lista3)"
      ],
      "metadata": {
        "id": "xygP7R2Ryf9h",
        "colab": {
          "base_uri": "https://localhost:8080/"
        },
        "outputId": "b706ac05-3d15-4d3b-df9a-293b919c4a4a"
      },
      "execution_count": null,
      "outputs": [
        {
          "output_type": "stream",
          "name": "stdout",
          "text": [
            "[1, 4, 6, 8, 10, 13, 17, 1, 4, 6, 8, 10]\n"
          ]
        }
      ]
    },
    {
      "cell_type": "code",
      "source": [
        "#15.Criar uma lista com os dias da semana e imprimir o terceiro dia.\n",
        "\n",
        "semana= [\"segunda\", \"terça\", \"quarta\", \"quinta\", \"sexta\", \"sabado\", \"domingo\"]\n",
        "\n",
        "print(semana[2])"
      ],
      "metadata": {
        "colab": {
          "base_uri": "https://localhost:8080/"
        },
        "id": "ip1j2GeTyxvM",
        "outputId": "5438e5a7-c452-44c3-ee8f-eff4bafd02c2"
      },
      "execution_count": null,
      "outputs": [
        {
          "output_type": "stream",
          "name": "stdout",
          "text": [
            "quarta\n"
          ]
        }
      ]
    },
    {
      "cell_type": "code",
      "source": [
        "#16. exibir apenas os nomes que começam com a letra \"A\"\n",
        "\n",
        "nom= [\"Elisangela\", \"Anderson\", \"Aline\", \"Henrique\", \"Caio\"]\n",
        "for nome in nom:\n",
        "  if nome.startswith(\"A\"):\n",
        "    print(nome)"
      ],
      "metadata": {
        "colab": {
          "base_uri": "https://localhost:8080/"
        },
        "id": "cmOtIc3xzWYc",
        "outputId": "0bccd1af-9790-48cf-93d1-80ed112b85e3"
      },
      "execution_count": null,
      "outputs": [
        {
          "output_type": "stream",
          "name": "stdout",
          "text": [
            "Anderson\n",
            "Aline\n"
          ]
        }
      ]
    },
    {
      "cell_type": "code",
      "source": [
        "#17. Criar uma lista de 5 números e multiplicar cada número por 3.\n",
        "\n",
        "num = [1, 4, 6, 8 ,10, 13, 17]\n",
        "for num in num:\n",
        "  print(num * 3)"
      ],
      "metadata": {
        "id": "ekBEc2Ev0b-G",
        "colab": {
          "base_uri": "https://localhost:8080/"
        },
        "outputId": "f1d12c89-3623-40de-b8f6-f8ac305a9e5c"
      },
      "execution_count": null,
      "outputs": [
        {
          "output_type": "stream",
          "name": "stdout",
          "text": [
            "3\n",
            "12\n",
            "18\n",
            "24\n",
            "30\n",
            "39\n",
            "51\n"
          ]
        }
      ]
    },
    {
      "cell_type": "code",
      "source": [
        "#18. Criar uma lista com 4 cores e exibir a última cor\n",
        "\n",
        "cores= [\"azul\", \"verde\", \"amarelo\", \"vermelho\"]\n",
        "print(cores[3])"
      ],
      "metadata": {
        "colab": {
          "base_uri": "https://localhost:8080/"
        },
        "id": "3j-MQ5JF1Ezf",
        "outputId": "a65e35cb-fbb8-413f-e426-5727f0b26fe1"
      },
      "execution_count": null,
      "outputs": [
        {
          "output_type": "stream",
          "name": "stdout",
          "text": [
            "vermelho\n"
          ]
        }
      ]
    },
    {
      "cell_type": "code",
      "source": [
        "#19. Criar uma lista e remover um elemento específico.\n",
        "\n",
        "progamadores= [\"azul\", \"verde\", \"amarelo\", \"vermelho\" ]\n",
        "print(progamadores)\n",
        "\n",
        "progamadores.remove(\"verde\")\n",
        "print(progamadores)"
      ],
      "metadata": {
        "id": "fQ0v2N9g1cuD",
        "colab": {
          "base_uri": "https://localhost:8080/"
        },
        "outputId": "d0c19d47-8077-4fd4-cb82-6bcf92e7a4c9"
      },
      "execution_count": null,
      "outputs": [
        {
          "output_type": "stream",
          "name": "stdout",
          "text": [
            "['azul', 'verde', 'amarelo', 'vermelho']\n",
            "['azul', 'amarelo', 'vermelho']\n"
          ]
        }
      ]
    },
    {
      "cell_type": "code",
      "source": [
        "#20. Encontrar o maior e o menor número em uma lista de números.\n",
        "\n",
        "numeros= [10, 77, 20, 27, 40, 51]\n",
        "print(max(numeros))\n",
        "print(min(numeros))"
      ],
      "metadata": {
        "colab": {
          "base_uri": "https://localhost:8080/"
        },
        "id": "Ctxglut6ONcn",
        "outputId": "f33cd49c-cf81-4e8d-bb80-19331f307a5d"
      },
      "execution_count": null,
      "outputs": [
        {
          "output_type": "stream",
          "name": "stdout",
          "text": [
            "77\n",
            "10\n"
          ]
        }
      ]
    },
    {
      "cell_type": "code",
      "source": [
        "#21. Criar uma lista e copiar os elementos para outra lista\n",
        "\n",
        "progamador = [\"Vitor\", \"Carlos\", \"Jessica\", \"Roberto\"]\n",
        "copia = progamador.copy()\n",
        "print(copia)"
      ],
      "metadata": {
        "colab": {
          "base_uri": "https://localhost:8080/"
        },
        "id": "IhZ9nblcOjyf",
        "outputId": "f0f59bf7-a853-456e-cc86-8e955e74bd70"
      },
      "execution_count": null,
      "outputs": [
        {
          "output_type": "stream",
          "name": "stdout",
          "text": [
            "['Vitor', 'Carlos', 'Jessica', 'Roberto']\n"
          ]
        }
      ]
    },
    {
      "cell_type": "code",
      "source": [
        "#22. Criar uma lista de frutas e verificar se \"banana\"; está presente.\n",
        "\n",
        "frutas = [\"maça\", \"banana\", \"uva\", \"morango\"]\n",
        "if \"banana\" in frutas:\n",
        "  print(\"banana está presente\")"
      ],
      "metadata": {
        "colab": {
          "base_uri": "https://localhost:8080/"
        },
        "id": "ozMYZP8EO6xT",
        "outputId": "891e687b-c866-46e5-e141-1c382da2e873"
      },
      "execution_count": null,
      "outputs": [
        {
          "output_type": "stream",
          "name": "stdout",
          "text": [
            "banana está presente\n"
          ]
        }
      ]
    },
    {
      "cell_type": "code",
      "source": [
        "#23. Criar uma lista de 5 números e calcular a média dos elementos.\n",
        "\n",
        "num = [1, 23, 12, 4, 7, 9]\n",
        "media = sum(num) / len(num)\n",
        "print(media)"
      ],
      "metadata": {
        "colab": {
          "base_uri": "https://localhost:8080/"
        },
        "id": "FxCYtAdDPrdN",
        "outputId": "8c6eadd8-5f03-4803-cc29-08066f9a9a39"
      },
      "execution_count": null,
      "outputs": [
        {
          "output_type": "stream",
          "name": "stdout",
          "text": [
            "9.333333333333334\n"
          ]
        }
      ]
    },
    {
      "cell_type": "code",
      "source": [
        "#24. Verificar se duas listas são idênticas (mesmo tamanho e valores na mesma ordem).\n",
        "\n",
        "lista1 = [1, 2, 3, 4, 5]\n",
        "lista2 = [1, 2, 3, 4, 5]\n",
        "if lista1 == lista2:\n",
        "  print(\"as listas são iguais\")"
      ],
      "metadata": {
        "colab": {
          "base_uri": "https://localhost:8080/"
        },
        "id": "WUAQPNQsQAbH",
        "outputId": "40c25e87-001d-44dd-b825-f3802cace9af"
      },
      "execution_count": null,
      "outputs": [
        {
          "output_type": "stream",
          "name": "stdout",
          "text": [
            "as listas são iguais\n"
          ]
        }
      ]
    },
    {
      "cell_type": "code",
      "source": [
        "#25. verificar se um número específico está presente.\n",
        "\n",
        "lista= [1, 2, 3, 4, 5]\n",
        "print(3 in lista)"
      ],
      "metadata": {
        "colab": {
          "base_uri": "https://localhost:8080/"
        },
        "id": "3kDuxgZ9QX5k",
        "outputId": "12948174-5205-447c-d4de-4baec34df135"
      },
      "execution_count": null,
      "outputs": [
        {
          "output_type": "stream",
          "name": "stdout",
          "text": [
            "True\n"
          ]
        }
      ]
    },
    {
      "cell_type": "code",
      "source": [
        "#26. Criar uma lista de 5 números e exibir o primeiro e o último elemento.\n",
        "\n",
        "lista = [1, 2, 3, 4, 10]\n",
        "print(lista[0])\n",
        "print(lista[-1])"
      ],
      "metadata": {
        "colab": {
          "base_uri": "https://localhost:8080/"
        },
        "id": "TLR5LrAdRwGW",
        "outputId": "ad93c6f3-cda8-48af-ecf8-d8ad237f377f"
      },
      "execution_count": null,
      "outputs": [
        {
          "output_type": "stream",
          "name": "stdout",
          "text": [
            "1\n",
            "10\n"
          ]
        }
      ]
    },
    {
      "cell_type": "code",
      "source": [
        "#27. Criar uma lista e contar quantos elementos ela tem.\n",
        "\n",
        "lista = [1, 2, 3, 4, 5]\n",
        "print(len(lista))"
      ],
      "metadata": {
        "colab": {
          "base_uri": "https://localhost:8080/"
        },
        "id": "-xtEwYMMR33d",
        "outputId": "c95ff2e7-fd32-49a9-8ef0-e8c4f8255709"
      },
      "execution_count": null,
      "outputs": [
        {
          "output_type": "stream",
          "name": "stdout",
          "text": [
            "5\n"
          ]
        }
      ]
    },
    {
      "cell_type": "code",
      "source": [
        "#28. Criar uma lista vazia e adicionar 3 elementos nela.\n",
        "\n",
        "lista = []\n",
        "lista.append(1)\n",
        "lista.append(2)\n",
        "lista.append(3)\n",
        "print(lista)"
      ],
      "metadata": {
        "colab": {
          "base_uri": "https://localhost:8080/"
        },
        "id": "yIeWeX6CR5DS",
        "outputId": "7285c202-e869-4998-f083-ee0ac7cac9f8"
      },
      "execution_count": null,
      "outputs": [
        {
          "output_type": "stream",
          "name": "stdout",
          "text": [
            "[1, 2, 3]\n"
          ]
        }
      ]
    }
  ]
}