{
  "nbformat": 4,
  "nbformat_minor": 0,
  "metadata": {
    "colab": {
      "provenance": []
    },
    "kernelspec": {
      "name": "python3",
      "display_name": "Python 3"
    },
    "language_info": {
      "name": "python"
    }
  },
  "cells": [
    {
      "cell_type": "code",
      "execution_count": null,
      "metadata": {
        "colab": {
          "base_uri": "https://localhost:8080/"
        },
        "id": "Tc01UUvxMHD7",
        "outputId": "2617ee02-03a4-41be-ccbb-1bfaf6f23f19"
      },
      "outputs": [
        {
          "output_type": "stream",
          "name": "stdout",
          "text": [
            "insira o valor de um lado de um triangulo: 2\n",
            "insira o valor de um lado de um triangulo: 4\n",
            "insira o valor de um lado de um triangulo: 2\n",
            "triangolo isosceles\n"
          ]
        }
      ],
      "source": [
        "                                  ###Exercio 1: (com match)###\n",
        "\n",
        "#Peça ao usuário para digitar três lados de um triângulo e use match case para classificar o triângulo como:\n",
        "#• Equilátero (todos os lados iguais)\n",
        "#• Isósceles (dois lados iguais)\n",
        "#• Escaleno (todos os lados diferentes)\n",
        "\n",
        "lado1 = int (input(\"insira o valor de um lado de um triangulo: \"))\n",
        "lado2 = int (input(\"insira o valor de um lado de um triangulo: \"))\n",
        "lado3 = int (input(\"insira o valor de um lado de um triangulo: \"))\n",
        "\n",
        "match (lado1 == lado2, lado1 == lado3, lado2 == lado3):\n",
        "    case 1,1,1:\n",
        "      print(\"o triangulo é equilatero\")\n",
        "    case 0,0,0:\n",
        "      print(\"o triangulo é escaleno\")\n",
        "    case _:\n",
        "      print(\"triangolo isosceles\")"
      ]
    },
    {
      "cell_type": "code",
      "source": [
        "                 ###Exercio 2: (com match)###\n",
        "\n",
        "#Peça ao usuário dois números e um operador matemático (+, -, *, /) e\n",
        "#use match-case para calcular e exibir o resultado. Caso o operador\n",
        "#seja inválido, exiba uma mensagem de erro.\n",
        "\n",
        "num1 = int (input(\"insira um numero: \"))\n",
        "operador = input(\"insira um operador: \")\n",
        "num2 = int (input(\"insira outro numero: \"))\n",
        "\n",
        "match operador:\n",
        "    case \"+\":\n",
        "        print(num1 + num2)\n",
        "    case \"-\":\n",
        "        print(num1 - num2)\n",
        "    case \"*\":\n",
        "        print(num1 * num2)\n",
        "    case \"/\":\n",
        "        print(num1 / num2)\n",
        "    case _:\n",
        "      print(\"operador invalido\")"
      ],
      "metadata": {
        "colab": {
          "base_uri": "https://localhost:8080/"
        },
        "id": "5wqZHBinamij",
        "outputId": "5a22ac90-a83b-4873-9543-3d8ba76dfbab"
      },
      "execution_count": null,
      "outputs": [
        {
          "output_type": "stream",
          "name": "stdout",
          "text": [
            "insira um numero: 5\n",
            "insira um operador: *\n",
            "insira outro numero: 3\n",
            "15\n"
          ]
        }
      ]
    },
    {
      "cell_type": "code",
      "source": [
        "                  ###Atividade – Estruturas Condicionais###\n",
        "\n",
        "### Exercício 1: Leia dois números, faça a soma e apresente caso seja maior que 15.\n",
        "\n",
        "num1 = int(input(\"insira um numero: \"))\n",
        "num2 = int(input(\"insira outro numero: \"))\n",
        "\n",
        "soma = num1 + num2\n",
        "\n",
        "if soma > 15:\n",
        "  print(soma)\n",
        "else:\n",
        "  print(\"menor que 15\")"
      ],
      "metadata": {
        "colab": {
          "base_uri": "https://localhost:8080/"
        },
        "id": "hKdESl15iRB4",
        "outputId": "192884fc-3337-4c5b-939a-8a0a2b72160f"
      },
      "execution_count": null,
      "outputs": [
        {
          "output_type": "stream",
          "name": "stdout",
          "text": [
            "insira um numero: 4\n",
            "insira outro numero: 3\n",
            "menor que 15\n"
          ]
        }
      ]
    },
    {
      "cell_type": "code",
      "source": [
        "### Exercício 2: Faça um programa que recebendo um valor inteiro, informe se o número é positivo, negativo ou neutro.\n",
        "\n",
        "num = int(input(\"insira o numero: \"))\n",
        "\n",
        "if num > 0:\n",
        "  print(\"positivo\")\n",
        "elif num < 0:\n",
        "  print(\"negativo\")\n",
        "else:\n",
        "  print(\"neutro\")"
      ],
      "metadata": {
        "colab": {
          "base_uri": "https://localhost:8080/"
        },
        "id": "3mRMX1WQlO8U",
        "outputId": "a7554843-af64-4746-af5e-ca56ace0b850"
      },
      "execution_count": null,
      "outputs": [
        {
          "output_type": "stream",
          "name": "stdout",
          "text": [
            "insira o numero: -5\n",
            "negativo\n"
          ]
        }
      ]
    },
    {
      "cell_type": "code",
      "source": [
        "### Exercício 3: Leia a idade e informe se a pessoa é maior ou menor de idade.\n",
        "\n",
        "idade = int(input(\"insira a idade: \"))\n",
        "\n",
        "if idade >= 18:\n",
        "  print(\"maior de idade\")\n",
        "else:\n",
        "  print(\"menor de idade\")"
      ],
      "metadata": {
        "colab": {
          "base_uri": "https://localhost:8080/"
        },
        "id": "bwNIN_E5lhFe",
        "outputId": "e3bf3fc6-39a1-48f5-b35a-49a8349c43a4"
      },
      "execution_count": null,
      "outputs": [
        {
          "output_type": "stream",
          "name": "stdout",
          "text": [
            "insira a idade: 22\n",
            "maior de idade\n"
          ]
        }
      ]
    },
    {
      "cell_type": "code",
      "source": [
        "### Exercício 4: Faça um programa que pergunte a temperatura atual para o usuário e mostre uma mensagem na tela dizendo se está “quente”, “frio” ou “agradável”.\n",
        "\n",
        "temperatura = int(input(\"insira a temperatura: \"))\n",
        "\n",
        "if temperatura > 30:\n",
        "  print(\"quente\")\n",
        "elif temperatura < 15:\n",
        "  print(\"frio\")\n",
        "else:\n",
        "  print(\"agradavel\")"
      ],
      "metadata": {
        "colab": {
          "base_uri": "https://localhost:8080/"
        },
        "id": "0aWsrUPslrZH",
        "outputId": "9d8a58f2-0301-4cd9-d47e-e7a540dfbd06"
      },
      "execution_count": null,
      "outputs": [
        {
          "output_type": "stream",
          "name": "stdout",
          "text": [
            "insira a temperatura: 30\n",
            "agradavel\n"
          ]
        }
      ]
    },
    {
      "cell_type": "code",
      "source": [
        "### Exercício 5: Faça um programa em linguagem Python que leia dois números inteiros e informe se estes são iguais ou diferentes.\n",
        "\n",
        "num1 = int(input(\"insira um numero: \"))\n",
        "num2 = int(input(\"insira outro numero: \"))\n",
        "\n",
        "if num1 == num2:\n",
        "  print(\"iguais\")\n",
        "else:\n",
        "  print(\"diferentes\")"
      ],
      "metadata": {
        "colab": {
          "base_uri": "https://localhost:8080/"
        },
        "id": "AcukNh8kl5X_",
        "outputId": "7076d6b1-a916-4d7c-9e85-b183f100ba97"
      },
      "execution_count": null,
      "outputs": [
        {
          "output_type": "stream",
          "name": "stdout",
          "text": [
            "insira um numero: 8\n",
            "insira outro numero: 8\n",
            "iguais\n"
          ]
        }
      ]
    },
    {
      "cell_type": "code",
      "source": [
        "### Exercício 6: Escreva um programa que verifique a validade de uma senha fornecida pelo usuário. A senha válida é o número 1234. Devem ser impressas as seguintes mensagens:\n",
        "#•ACESSO PERMITIDO caso a senha seja válida.\n",
        "#•ACESSO NEGADO caso a senha seja inválida.\n",
        "\n",
        "senha = int(input(\"insira a senha: \"))\n",
        "\n",
        "if senha == 1234:\n",
        "  print(\"acesso permitido\")\n",
        "else:\n",
        "  print(\"acesso negado\")"
      ],
      "metadata": {
        "id": "Luh6zOxQmiH3",
        "colab": {
          "base_uri": "https://localhost:8080/"
        },
        "outputId": "2023ecbe-849c-4735-b771-81bebde72fd7"
      },
      "execution_count": null,
      "outputs": [
        {
          "output_type": "stream",
          "name": "stdout",
          "text": [
            "insira a senha: 1234\n",
            "acesso permitido\n"
          ]
        }
      ]
    },
    {
      "cell_type": "code",
      "source": [
        "### Exercício 7: Ler duas notas de um aluno, efetuar a média aritmética e, se a média for maior ou igual a 7, informar que o aluno foi aprovado; se a média for maior ou igual a 5 mas menor do que 7, informar que o aluno está de exame; se a média for menor do que 5 informar que o aluno foi reprovado.\n",
        "\n",
        "nota1 = int(input(\"insira a primeira nota: \"))\n",
        "nota2 = int(input(\"insira a segunda nota: \"))\n",
        "\n",
        "media = (nota1 + nota2) / 2\n",
        "\n",
        "if media >= 7:\n",
        "  print(\"aprovado\")\n",
        "elif media >= 5:\n",
        "  print(\"de exame\")\n",
        "else:\n",
        "  print(\"reprovado\")"
      ],
      "metadata": {
        "colab": {
          "base_uri": "https://localhost:8080/"
        },
        "id": "2acJhCszDtFI",
        "outputId": "f571632b-cfab-4ff7-dc45-7e545e48a3e8"
      },
      "execution_count": null,
      "outputs": [
        {
          "output_type": "stream",
          "name": "stdout",
          "text": [
            "insira a primeira nota: 9\n",
            "insira a segunda nota: 5\n",
            "aprovado\n"
          ]
        }
      ]
    },
    {
      "cell_type": "code",
      "source": [
        "### Exercício 8: Desenvolva um programa que recebe do usuário o placar de um jogo de futebol (os gols de cada time) e informe se o resultado foi um empate, se a vitória foi do primeiro time ou do segundo time.\n",
        "\n",
        "time1 = int (input(\"insira o numero de gols do time 1: \"))\n",
        "time2 = int (input(\"insira o numero de gols do time 2: \"))\n",
        "\n",
        "if time1 > time2:\n",
        "  print(\"time 1 venceu\")\n",
        "elif time1 < time2:\n",
        "  print(\"time 2 venceu\")\n",
        "else:\n",
        "  print(\"empate\")\n"
      ],
      "metadata": {
        "colab": {
          "base_uri": "https://localhost:8080/"
        },
        "id": "S2ZJMpbTEcBg",
        "outputId": "87ea893b-c28a-4fab-9c88-cd794739dc6d"
      },
      "execution_count": null,
      "outputs": [
        {
          "output_type": "stream",
          "name": "stdout",
          "text": [
            "insira o numero de gols do time 1: 5\n",
            "insira o numero de gols do time 2: 2\n",
            "time 1 venceu\n"
          ]
        }
      ]
    },
    {
      "cell_type": "code",
      "source": [
        "### Exercício 9: Faça um Programa que pergunte em que turno você estuda. Peça para digitar M matutino, V Vespertino ou N Noturno. Imprima a mensagem \"Bom Dia!\", \"Boa Tarde!\" ou \"Boa Noite!\" ou \"Valor Inválido!\", conforme o caso.\n",
        "\n",
        "pergunta = input(\"insira o turno que você estuda: \")\n",
        "if pergunta == \"M\":\n",
        "  print(\"bom dia\")\n",
        "\n",
        "elif pergunta == \"V\":\n",
        "  print(\"boa tarde\")\n",
        "\n",
        "elif pergunta == \"N\":\n",
        "  print(\"boa noite\")\n",
        "\n",
        "else:\n",
        "  print(\"valor invalido\")"
      ],
      "metadata": {
        "colab": {
          "base_uri": "https://localhost:8080/"
        },
        "id": "jbC6PkWgE_6G",
        "outputId": "2813a302-b5a2-4c45-edbb-78c67c973988"
      },
      "execution_count": null,
      "outputs": [
        {
          "output_type": "stream",
          "name": "stdout",
          "text": [
            "insira o turno que você estuda: M\n",
            "bom dia\n"
          ]
        }
      ]
    },
    {
      "cell_type": "code",
      "source": [
        "### Exercício 10: Faça um programa que solicite ao usuário sua idade, depois disso, exiba a classificação etária de acordo com as faixas de valores:\n",
        "#• Criança para 0 até 11 anos;\n",
        "#• Adolescente para 12 até 18 anos;\n",
        "#• Jovem para 19 até 24 anos;\n",
        "#• Adulto para 25 até 40 anos;\n",
        "#• Meia Idade para 41 até 60 anos;\n",
        "#• Idoso acima de 60 anos.\n",
        "\n",
        "idade = int(input(\"insira sua idade: \"))\n",
        "\n",
        "if idade >=0 and idade <=11:\n",
        "  print(\"Criança\")\n",
        "elif idade >=12 and idade <=18:\n",
        "  print(\"Adolescente\")\n",
        "elif idade >= 19 and idade <= 24:\n",
        "  print(\"Jovem\")\n",
        "elif idade >= 25 and idade <= 40:\n",
        "  print(\"Adulto\")\n",
        "elif idade >= 41 and idade <= 60:\n",
        "  print(\"Meia Idade\")\n",
        "else:\n",
        "  print(\"Idoso\")"
      ],
      "metadata": {
        "colab": {
          "base_uri": "https://localhost:8080/"
        },
        "id": "W1NrW5jcIfww",
        "outputId": "1e7bf960-bca3-49ac-cff7-593c74341fc1"
      },
      "execution_count": null,
      "outputs": [
        {
          "output_type": "stream",
          "name": "stdout",
          "text": [
            "insira sua idade: 68\n",
            "Idoso\n"
          ]
        }
      ]
    },
    {
      "cell_type": "code",
      "source": [
        "### Exercício 11: Função para calcular o reajuste salarial\n",
        "\n",
        "\n",
        "# Solicita o salário do usuário\n",
        "salario_atual = int(input(\"Digite o salário atual do colaborador: R$ \"))\n",
        "\n",
        "# Determina o percentual de aumento com if e else aninhados\n",
        "if salario_atual <= 280:\n",
        "    percentual_aumento = 20\n",
        "else:\n",
        "    if salario_atual <= 700:\n",
        "        percentual_aumento = 15\n",
        "    else:\n",
        "        if salario_atual <= 1500:\n",
        "            percentual_aumento = 10\n",
        "        else:\n",
        "            percentual_aumento = 5\n",
        "\n",
        "# Calcula o valor do aumento e o novo salário (sem números decimais)\n",
        "aumento = (salario_atual * percentual_aumento) // 100  # Divisão inteira\n",
        "novo_salario = salario_atual + aumento\n",
        "\n",
        "# Exibe os resultados\n",
        "print(f'Salário antes do reajuste: R$ {salario_atual}')\n",
        "print(f'Percentual de aumento aplicado: {percentual_aumento}%')\n",
        "print(f'Valor do aumento: R$ {aumento}')\n",
        "print(f'Novo salário, após o aumento: R$ {novo_salario}')"
      ],
      "metadata": {
        "colab": {
          "base_uri": "https://localhost:8080/"
        },
        "id": "EFFe_zuZIz7A",
        "outputId": "c58985b7-9d71-43be-9749-c5849c74dc2f"
      },
      "execution_count": null,
      "outputs": [
        {
          "output_type": "stream",
          "name": "stdout",
          "text": [
            "Digite o salário atual do colaborador: R$ 1500\n",
            "Salário antes do reajuste: R$ 1500\n",
            "Percentual de aumento aplicado: 10%\n",
            "Valor do aumento: R$ 150\n",
            "Novo salário, após o aumento: R$ 1650\n"
          ]
        }
      ]
    },
    {
      "cell_type": "code",
      "source": [
        "### Exercício 12: Faça um Programa que leia um número e exiba o dia correspondente da semana.\n",
        "\n",
        "# Solicita um número ao usuário\n",
        "numero = input(\"Digite um número de 1 a 7 para saber o dia da semana: \").strip()\n",
        "\n",
        "# Verifica se a entrada é um número válido\n",
        "if numero.isdigit():\n",
        "    numero = int(numero)  # Converte para inteiro\n",
        "\n",
        "    # Verifica qual dia corresponde ao número\n",
        "    if numero == 1:\n",
        "        dia = \"Domingo\"\n",
        "    else:\n",
        "        if numero == 2:\n",
        "            dia = \"Segunda\"\n",
        "        else:\n",
        "            if numero == 3:\n",
        "                dia = \"Terça\"\n",
        "            else:\n",
        "                if numero == 4:\n",
        "                    dia = \"Quarta\"\n",
        "                else:\n",
        "                    if numero == 5:\n",
        "                        dia = \"Quinta\"\n",
        "                    else:\n",
        "                        if numero == 6:\n",
        "                            dia = \"Sexta\"\n",
        "                        else:\n",
        "                            if numero == 7:\n",
        "                                dia = \"Sábado\"\n",
        "                            else:\n",
        "                                dia = \"Valor inválido\"\n",
        "else:\n",
        "    dia = \"Entrada inválida! Digite um número de 1 a 7.\"\n",
        "\n",
        "# Exibe o resultado\n",
        "print(dia)"
      ],
      "metadata": {
        "colab": {
          "base_uri": "https://localhost:8080/"
        },
        "id": "43ruirOpLjzL",
        "outputId": "cfdc1bda-5e1a-4d76-c33f-b154eca269d2"
      },
      "execution_count": null,
      "outputs": [
        {
          "output_type": "stream",
          "name": "stdout",
          "text": [
            "Digite um número de 1 a 7 para saber o dia da semana: 5\n",
            "Quinta\n"
          ]
        }
      ]
    },
    {
      "cell_type": "code",
      "source": [
        "### Exercício 13: Conversão de Temperaturas\n",
        "\n",
        "# Função para converter temperaturas\n",
        "\n",
        "# Solicita ao usuário se deseja converter temperatura\n",
        "converter_temperatura = input(\"Deseja converter temperatura? (S/N): \").strip().upper()\n",
        "if converter_temperatura:\n",
        "    escolha = input(\"Você quer converter de (1) Fahrenheit para Celsius ou (2) Celsius para Fahrenheit? Digite 1 ou 2: \")\n",
        "\n",
        "    if escolha == '1':\n",
        "        fahrenheit = float(input(\"Digite a temperatura em Fahrenheit: \"))\n",
        "        celsius = (fahrenheit - 32) * 5/9\n",
        "        print(f\"A temperatura em Celsius é: {celsius:.2f}°C\")\n",
        "    elif escolha == '2':\n",
        "        celsius = float(input(\"Digite a temperatura em Celsius: \"))\n",
        "        fahrenheit = (celsius * 9/5) + 32\n",
        "        print(f\"A temperatura em Fahrenheit é: {fahrenheit:.2f}°F\")\n",
        "    else:\n",
        "        print(\"Escolha inválida.\")"
      ],
      "metadata": {
        "colab": {
          "base_uri": "https://localhost:8080/"
        },
        "id": "_5gqEVIWMETR",
        "outputId": "fd25ad94-6894-411d-ed86-8e7fccb2e450"
      },
      "execution_count": null,
      "outputs": [
        {
          "output_type": "stream",
          "name": "stdout",
          "text": [
            "Deseja converter temperatura? (S/N): s\n",
            "Você quer converter de (1) Fahrenheit para Celsius ou (2) Celsius para Fahrenheit? Digite 1 ou 2: 2\n",
            "Digite a temperatura em Celsius: 21\n",
            "A temperatura em Fahrenheit é: 69.80°F\n"
          ]
        }
      ]
    },
    {
      "cell_type": "code",
      "source": [
        "### Exercício 14: Condição de Voto\n",
        "\n",
        "# Função para verificar a condição de voto\n",
        "\n",
        "#Solicitar a idade do usuário\n",
        "idade = int(input(\"Digite a sua idade: \"))\n",
        "\n",
        "#Verificar a condição do voto com base na idade\n",
        "if idade < 16:\n",
        "    condicao = \"Proibido\"\n",
        "elif 16 <= idade < 18:\n",
        "    condicao = \"Optativo\"\n",
        "elif 18 <= idade < 65:\n",
        "    condicao = \"Obrigatório\"\n",
        "else:\n",
        "    condicao = \"Optativo\"\n",
        "\n",
        "#Exibir a condição em relação ao voto\n",
        "print(f\"Sua condição em relação ao ato de votar é: {condicao}\")\n"
      ],
      "metadata": {
        "colab": {
          "base_uri": "https://localhost:8080/"
        },
        "id": "UxpXqlJENgGw",
        "outputId": "1d2bf1f1-5f22-48af-acc0-49ef838ce8e4"
      },
      "execution_count": null,
      "outputs": [
        {
          "output_type": "stream",
          "name": "stdout",
          "text": [
            "Digite a sua idade: 19\n",
            "Sua condição em relação ao ato de votar é: Obrigatório\n"
          ]
        }
      ]
    },
    {
      "cell_type": "code",
      "source": [
        "### Exercício 15 e 16: Perguntas sobre um Crime\n",
        "\n",
        "#Lista de perguntas para classificar a participação no crime\n",
        "perguntas = [\n",
        "    \"Telefonou para a vítima? (s/n) \",\n",
        "    \"Esteve no local do crime? (s/n) \",\n",
        "    \"Mora perto da vítima? (s/n) \",\n",
        "    \"Devia para a vítima? (s/n) \",\n",
        "    \"Já trabalhou com a vítima? (s/n) \"\n",
        "]\n",
        "\n",
        "#Contador de respostas positivas\n",
        "respostas_positivas = 0\n",
        "\n",
        "#Perguntar ao usuário e contar as respostas positivas\n",
        "for pergunta in perguntas:\n",
        "    resposta = input(pergunta).strip().lower()\n",
        "    if resposta == 's':\n",
        "        respostas_positivas += 1\n",
        "\n",
        "#Classificar a participação com base no número de respostas positivas\n",
        "if respostas_positivas == 2:\n",
        "    classificacao = \"Suspeita\"\n",
        "elif 3 <= respostas_positivas <= 4:\n",
        "    classificacao = \"Cúmplice\"\n",
        "elif respostas_positivas == 5:\n",
        "    classificacao = \"Assassino\"\n",
        "else:\n",
        "    classificacao = \"Inocente\"\n",
        "\n",
        "#Exibir o resultado\n",
        "print(f\"Classificação da participação no crime: {classificacao}\")"
      ],
      "metadata": {
        "colab": {
          "base_uri": "https://localhost:8080/"
        },
        "id": "iBlRJZg1Ocnn",
        "outputId": "ef94f210-a03f-4609-d018-6a0abe487258"
      },
      "execution_count": null,
      "outputs": [
        {
          "output_type": "stream",
          "name": "stdout",
          "text": [
            "Telefonou para a vítima? (s/n) s\n",
            "Esteve no local do crime? (s/n) s\n",
            "Mora perto da vítima? (s/n) n\n",
            "Devia para a vítima? (s/n) n\n",
            "Já trabalhou com a vítima? (s/n) s\n",
            "Classificação da participação no crime: Cúmplice\n"
          ]
        }
      ]
    },
    {
      "cell_type": "code",
      "source": [
        "### Exercício 17: Escolha do Produto Mais Barato\n",
        "\n",
        "#Solicitar os preços dos produtos\n",
        "preco1 = float(input(\"Digite o preço do primeiro produto: $\"))\n",
        "preco2 = float(input(\"Digite o preço do segundo produto: $\"))\n",
        "preco3 = float(input(\"Digite o preço do terceiro produto: $\"))\n",
        "\n",
        "if preco1 <= preco2 and preco1 <= preco3:\n",
        "    menor_preco = preco1\n",
        "elif preco2 <= preco1 and preco2 <= preco3:\n",
        "    menor_preco = preco2\n",
        "else:\n",
        "    menor_preco = preco3\n",
        "\n",
        "#Exibir o resultado\n",
        "print(f\"O produto mais barato custa $ {menor_preco:.2f}\")\n",
        "\n"
      ],
      "metadata": {
        "colab": {
          "base_uri": "https://localhost:8080/"
        },
        "id": "B_DqoGXtOEFR",
        "outputId": "029b8728-fbe1-4d61-d8de-b322548b5184"
      },
      "execution_count": null,
      "outputs": [
        {
          "output_type": "stream",
          "name": "stdout",
          "text": [
            "Digite o preço do primeiro produto: $33\n",
            "Digite o preço do segundo produto: $23\n",
            "Digite o preço do terceiro produto: $44\n",
            "O produto mais barato custa $ 23.00\n"
          ]
        }
      ]
    }
  ]
}